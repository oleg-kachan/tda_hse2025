{
 "cells": [
  {
   "cell_type": "code",
   "execution_count": null,
   "metadata": {},
   "outputs": [],
   "source": [
    "!pip install plotly"
   ]
  },
  {
   "cell_type": "code",
   "execution_count": null,
   "metadata": {},
   "outputs": [],
   "source": [
    "%matplotlib inline\n",
    "import matplotlib.pyplot as plt\n",
    "\n",
    "import numpy as np\n",
    "import networkx as nx\n",
    "\n",
    "import kmapper as km\n",
    "from kmapper import jupyter\n",
    "import kmapper.evaluate as evaluate\n",
    "\n",
    "from sklearn.datasets import make_circles, load_digits\n",
    "from sklearn.cluster import DBSCAN\n",
    "from sklearn.decomposition import PCA\n",
    "from sklearn.manifold import Isomap\n",
    "\n",
    "from kmapper.plotlyviz import plotlyviz\n",
    "from kmapper.plotlyviz import *\n",
    "import plotly.graph_objs as go\n",
    "import ipywidgets as ipw"
   ]
  },
  {
   "cell_type": "markdown",
   "metadata": {},
   "source": [
    "## Seminar 17: Mapper\n",
    "\n",
    "### Concentric circles"
   ]
  },
  {
   "cell_type": "code",
   "execution_count": null,
   "metadata": {},
   "outputs": [],
   "source": [
    "# load data\n",
    "data, labels = make_circles(n_samples=5000, noise=0.03, factor=0.3)"
   ]
  },
  {
   "cell_type": "code",
   "execution_count": null,
   "metadata": {},
   "outputs": [],
   "source": [
    "plt.figure(figsize=(5,5))\n",
    "plt.scatter(data[:,0], data[:,1], c=\"b\", s=10, alpha=0.5)\n",
    "plt.show()"
   ]
  },
  {
   "cell_type": "markdown",
   "metadata": {},
   "source": [
    "#### 1D cover"
   ]
  },
  {
   "cell_type": "code",
   "execution_count": null,
   "metadata": {},
   "outputs": [],
   "source": [
    "# lens function is a projection to the first coordinate\n",
    "lens_f_1d = km.KeplerMapper().fit_transform(data, projection=[0])"
   ]
  },
  {
   "cell_type": "code",
   "execution_count": null,
   "metadata": {},
   "outputs": [],
   "source": [
    "n_intervals = 20\n",
    "overlap = 0.25"
   ]
  },
  {
   "cell_type": "code",
   "execution_count": null,
   "metadata": {},
   "outputs": [],
   "source": [
    "# init mapper\n",
    "mapper = km.KeplerMapper(verbose=1)\n",
    "\n",
    "# build cover\n",
    "cover_1d = km.Cover(n_intervals, overlap)\n",
    "\n",
    "# build mapper graph\n",
    "graph = mapper.map(lens_f_1d, data, cover=cover_1d)"
   ]
  },
  {
   "cell_type": "code",
   "execution_count": null,
   "metadata": {},
   "outputs": [],
   "source": [
    "colors = []\n",
    "sizes = []\n",
    "\n",
    "for i in range(len(graph['nodes'])):\n",
    "    index_list = [l for l in graph['nodes'].values()][i]\n",
    "    color = np.mean(lens_f_1d[index_list])\n",
    "    colors.append(color)\n",
    "    sizes.append(len(index_list))"
   ]
  },
  {
   "cell_type": "code",
   "execution_count": null,
   "metadata": {},
   "outputs": [],
   "source": [
    "G = km.adapter.to_networkx(graph)\n",
    "nx.draw(G, pos=nx.kamada_kawai_layout(G), node_color=colors, node_size=sizes, cmap=\"rainbow\")\n",
    "plt.show()"
   ]
  },
  {
   "cell_type": "code",
   "execution_count": null,
   "metadata": {},
   "outputs": [],
   "source": [
    "_ = mapper.visualize(graph, path_html=\"make_circles_keplermapper1d.html\")"
   ]
  },
  {
   "cell_type": "markdown",
   "metadata": {},
   "source": [
    "#### 2D cover"
   ]
  },
  {
   "cell_type": "code",
   "execution_count": null,
   "metadata": {},
   "outputs": [],
   "source": [
    "# lens function is a projection to the first two coordinates\n",
    "lens_f_2d = km.KeplerMapper().fit_transform(data, projection=[0, 1])"
   ]
  },
  {
   "cell_type": "code",
   "execution_count": null,
   "metadata": {},
   "outputs": [],
   "source": [
    "n_intervals = 12\n",
    "overlap = 0.25"
   ]
  },
  {
   "cell_type": "code",
   "execution_count": null,
   "metadata": {},
   "outputs": [],
   "source": [
    "# init mapper\n",
    "mapper = km.KeplerMapper(verbose=1)\n",
    "\n",
    "# build cover\n",
    "cover_1d = km.Cover(n_intervals, overlap)\n",
    "\n",
    "# build mapper graph\n",
    "graph = mapper.map(lens_f_2d, data, cover=cover_1d)"
   ]
  },
  {
   "cell_type": "code",
   "execution_count": null,
   "metadata": {},
   "outputs": [],
   "source": [
    "colors = []\n",
    "sizes = []\n",
    "\n",
    "for i in range(len(graph['nodes'])):\n",
    "    index_list = [l for l in graph['nodes'].values()][i]\n",
    "    color = np.mean(lens_f_2d[index_list])\n",
    "    colors.append(color)\n",
    "    sizes.append(len(index_list))"
   ]
  },
  {
   "cell_type": "code",
   "execution_count": null,
   "metadata": {},
   "outputs": [],
   "source": [
    "G = km.adapter.to_networkx(graph)\n",
    "nx.draw(G, pos=nx.kamada_kawai_layout(G), node_color=colors, node_size=sizes, cmap=\"rainbow\")\n",
    "plt.show()"
   ]
  },
  {
   "cell_type": "code",
   "execution_count": null,
   "metadata": {},
   "outputs": [],
   "source": [
    "_ = mapper.visualize(graph, path_html=\"make_circles_keplermapper2d.html\")"
   ]
  },
  {
   "cell_type": "markdown",
   "metadata": {},
   "source": [
    "### Two circles"
   ]
  },
  {
   "cell_type": "code",
   "execution_count": null,
   "metadata": {},
   "outputs": [],
   "source": [
    "idx = np.arange(0, 10000, 1)\n",
    "\n",
    "data = np.loadtxt(\"./data/two_cir.csv\",delimiter=\",\")[idx]\n",
    "lens_f = data[:,0] # lens function is a projection to the first coordinate"
   ]
  },
  {
   "cell_type": "code",
   "execution_count": null,
   "metadata": {},
   "outputs": [],
   "source": [
    "plt.figure(figsize=(12,5))\n",
    "plt.scatter(data[:,0], data[:,1], c=lens_f, cmap=\"rainbow\", s=10, alpha=0.5)\n",
    "plt.show()"
   ]
  },
  {
   "cell_type": "markdown",
   "metadata": {},
   "source": [
    "#### Mapper"
   ]
  },
  {
   "cell_type": "code",
   "execution_count": null,
   "metadata": {},
   "outputs": [],
   "source": [
    "n_intervals = 12\n",
    "overlap = 0.01"
   ]
  },
  {
   "cell_type": "code",
   "execution_count": null,
   "metadata": {},
   "outputs": [],
   "source": [
    "# init mapper\n",
    "mapper = km.KeplerMapper(verbose=1)\n",
    "\n",
    "# build cover\n",
    "mapper_cover = km.Cover(n_intervals, overlap)\n",
    "\n",
    "# build mapper graph\n",
    "mapper_graph = mapper.map(lens_f, data, cover=mapper_cover)"
   ]
  },
  {
   "cell_type": "code",
   "execution_count": null,
   "metadata": {},
   "outputs": [],
   "source": [
    "interval_table_2 = np.zeros((2,n_intervals))  \n",
    "s = mapper_cover.bounds_[0]\n",
    "L = mapper_cover.bounds_[1] - mapper_cover.bounds_[0]\n",
    "x = L/(n_intervals-(n_intervals-1)*overlap)\n",
    "for i in range(n_intervals):\n",
    "    interval_table_2[0,i] = s\n",
    "    interval_table_2[1,i] = s + x\n",
    "    s = s + (1 - overlap)*x\n",
    "\n",
    "color_list2 = []\n",
    "sizes2 = []\n",
    "for i in range(len(mapper_graph['nodes'])):\n",
    "    index_list = [l for l in mapper_graph['nodes'].values()][i]\n",
    "    color = np.mean(lens_f[index_list])\n",
    "    color_list2.append(color)\n",
    "    sizes2.append(len(index_list))\n",
    "\n",
    "G2 = km.adapter.to_networkx(mapper_graph)\n",
    "nx.draw(G2, pos=nx.kamada_kawai_layout(G2), node_color=color_list2, node_size=sizes2, cmap=\"rainbow\")\n",
    "plt.show()"
   ]
  },
  {
   "cell_type": "markdown",
   "metadata": {},
   "source": [
    "#### D-Mapper"
   ]
  },
  {
   "cell_type": "code",
   "execution_count": null,
   "metadata": {},
   "outputs": [],
   "source": [
    "n_intervals = 13\n",
    "alpha = 0.1273"
   ]
  },
  {
   "cell_type": "code",
   "execution_count": null,
   "metadata": {
    "scrolled": false
   },
   "outputs": [],
   "source": [
    "# init mapper\n",
    "dmapper = km.D_Mapper(verbose=1)\n",
    "\n",
    "# build cover\n",
    "dmapper_cover = km.D_Cover(n_intervals, alpha, n_init=10, max_iter=200000, verbose=1)\n",
    "\n",
    "# build mapper graph\n",
    "dmapper_graph = dmapper.map(lens_f, data, cover=dmapper_cover)"
   ]
  },
  {
   "cell_type": "code",
   "execution_count": null,
   "metadata": {
    "scrolled": false
   },
   "outputs": [],
   "source": [
    "interval_table_1 = dmapper_cover.interval_table\n",
    "\n",
    "color_list1 = []\n",
    "sizes1 = []\n",
    "for i in range(len(dmapper_graph['nodes'])):\n",
    "    index_list = [l for l in dmapper_graph['nodes'].values()][i]\n",
    "    color = np.mean(lens_f[index_list])\n",
    "    color_list1.append(color)\n",
    "    sizes1.append(len(index_list))\n",
    "\n",
    "G1 = km.adapter.to_networkx(dmapper_graph)\n",
    "nx.draw(G1, pos=nx.kamada_kawai_layout(G1), node_color=color_list1, node_size=sizes1, cmap=\"rainbow\")\n",
    "plt.show()"
   ]
  },
  {
   "cell_type": "markdown",
   "metadata": {},
   "source": [
    "#### Comparing covers"
   ]
  },
  {
   "cell_type": "code",
   "execution_count": null,
   "metadata": {},
   "outputs": [],
   "source": [
    "plt.figure(dpi=200)\n",
    "\n",
    "for i in range(1,interval_table_1.shape[1]+1):\n",
    "    plt.plot([interval_table_1[0,i-1],interval_table_1[1,i-1]],[0.1*(i % 2)-2.5,0.1*(i%2)-2.5])\n",
    "\n",
    "for i in range(1,interval_table_2.shape[1]+1):\n",
    "    plt.plot([interval_table_2[0,i-1],interval_table_2[1,i-1]],[0.1*(i % 2)-1.6,0.1*(i%2)-1.6])\n",
    "\n",
    "plt.scatter(data[:,0],data[:,1],s=0.1, c=lens_f, cmap=\"rainbow\")\n",
    "\n",
    "plt.text(-1, -2.1, 'D-Mapper:', fontsize=9) \n",
    "plt.text(-1, -1.2, 'Classic Mapper:', fontsize=9) \n",
    "\n",
    "ax = plt.gca()\n",
    "ax.set_aspect(1)\n",
    "plt.yticks([])\n",
    "plt.show()"
   ]
  },
  {
   "cell_type": "markdown",
   "metadata": {},
   "source": [
    "### Digits"
   ]
  },
  {
   "cell_type": "code",
   "execution_count": null,
   "metadata": {},
   "outputs": [],
   "source": [
    "data, labels = load_digits().data, load_digits().target\n",
    "data_pca = Isomap(n_neighbors=7, n_components=2).fit_transform(data)"
   ]
  },
  {
   "cell_type": "code",
   "execution_count": null,
   "metadata": {},
   "outputs": [],
   "source": [
    "plt.figure(figsize=(5,5))\n",
    "plt.scatter(data_pca[:,0], data_pca[:,1], c=labels, s=10, alpha=0.5)\n",
    "plt.show()"
   ]
  },
  {
   "cell_type": "code",
   "execution_count": null,
   "metadata": {},
   "outputs": [],
   "source": [
    "n_intervals = 35\n",
    "overlap = 0.6"
   ]
  },
  {
   "cell_type": "code",
   "execution_count": null,
   "metadata": {},
   "outputs": [],
   "source": [
    "# init mapper\n",
    "mapper = km.KeplerMapper(verbose=0)\n",
    "\n",
    "# specify cluster algorithm\n",
    "clusterer = DBSCAN(eps=0.3, min_samples=15)\n",
    "\n",
    "# 2D lens function as the Isomap embedding\n",
    "projection = Isomap(n_neighbors=7, n_components=2)\n",
    "lens_f = mapper.fit_transform(data, projection=projection)\n",
    "\n",
    "# build cover\n",
    "cover = km.Cover(n_intervals, overlap)\n",
    "\n",
    "# build mapper complex\n",
    "cmplx = mapper.map(\n",
    "    lens_f,\n",
    "    clusterer=clusterer,\n",
    "    cover=cover\n",
    ")"
   ]
  },
  {
   "cell_type": "code",
   "execution_count": null,
   "metadata": {},
   "outputs": [],
   "source": [
    "color_values = lens_f[:, 1]-lens_f[:, 1].min()\n",
    "plotlyviz(cmplx, \n",
    "          title='Mapper graph of digits dataset',\n",
    "          color_values=color_values, \n",
    "          color_function_name='Distance to y-min', \n",
    "          node_linecolor='rgb(100,100,100)',\n",
    "          bgcolor='rgb(240,240,240)',\n",
    "          width=620, height=620,\n",
    "          summary_height=350,\n",
    "          summary_left=10,\n",
    "          hist_left=25,\n",
    "          hist_right=10,\n",
    "          graph_data=True)"
   ]
  },
  {
   "cell_type": "code",
   "execution_count": null,
   "metadata": {},
   "outputs": [],
   "source": []
  }
 ],
 "metadata": {
  "kernelspec": {
   "display_name": "Python 3 (ipykernel)",
   "language": "python",
   "name": "python3"
  },
  "language_info": {
   "codemirror_mode": {
    "name": "ipython",
    "version": 3
   },
   "file_extension": ".py",
   "mimetype": "text/x-python",
   "name": "python",
   "nbconvert_exporter": "python",
   "pygments_lexer": "ipython3",
   "version": "3.10.2"
  }
 },
 "nbformat": 4,
 "nbformat_minor": 2
}
