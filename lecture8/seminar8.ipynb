{
 "cells": [
  {
   "cell_type": "code",
   "execution_count": null,
   "id": "f577f696",
   "metadata": {},
   "outputs": [],
   "source": [
    "%matplotlib inline\n",
    "import matplotlib.pyplot as plt\n",
    "\n",
    "import numpy as np\n",
    "\n",
    "import sys \n",
    "sys.path.append(\"../lecture6/\")\n",
    "from simplicialx.simplicial import SimplicialComplex\n",
    "\n",
    "np.set_printoptions(precision=2, suppress=True)"
   ]
  },
  {
   "cell_type": "markdown",
   "id": "47a7a0b6",
   "metadata": {},
   "source": [
    "# Seminar 8: Hodge decomposition\n",
    "\n",
    "Given a simplicial complex $K$, with boundary matrices $\\mathbf{B}_k$, $k = 1, \\dots, \\dim(K)$ and the higher-order Laplacian matrix $\\mathbf{L}_k$\n",
    "\n",
    "\\begin{equation}\n",
    "\\mathbf{L}_k = \\mathbf{B}_k^T \\mathbf{B}_k + \\mathbf{B}_{k+1} \\mathbf{B}_{k+1}^T,\n",
    "\\end{equation}\n",
    "\n",
    "where $\\mathbf{L}_k^{LOW} = \\mathbf{B}_k^T \\mathbf{B}_k$ and $\\mathbf{L}_k^{UP} = \\mathbf{B}_{k+1} \\mathbf{B}_{k+1}^T$,\n",
    "\n",
    "the Hodge decomposition is\n",
    "\n",
    "\\begin{equation}\n",
    "C_k = \\mathrm{im}~\\mathbf{B}_{k+1} \\oplus \\ker \\mathbf{L}_k \\oplus \\mathrm{im}~\\mathbf{B}_k^T.\n",
    "\\end{equation}"
   ]
  },
  {
   "cell_type": "code",
   "execution_count": null,
   "id": "1d4295b4",
   "metadata": {},
   "outputs": [],
   "source": [
    "K = SimplicialComplex()\n",
    "\n",
    "K.add([1, 2])\n",
    "K.add([2, 3])\n",
    "K.add([3, 4])\n",
    "K.add([1, 4, 5])\n",
    "\n",
    "K.simplices"
   ]
  },
  {
   "cell_type": "markdown",
   "id": "2815c860",
   "metadata": {},
   "source": [
    "#### Boundary matrices"
   ]
  },
  {
   "cell_type": "code",
   "execution_count": null,
   "id": "d0eb56b2",
   "metadata": {},
   "outputs": [],
   "source": [
    "B1 = K.boundary_operator_matrix(k=1).astype(int)\n",
    "B2 = K.boundary_operator_matrix(k=2).astype(int)\n",
    "\n",
    "B1, B2"
   ]
  },
  {
   "cell_type": "markdown",
   "id": "66e13939",
   "metadata": {},
   "source": [
    "#### Edge flow"
   ]
  },
  {
   "cell_type": "code",
   "execution_count": null,
   "id": "aea6029e",
   "metadata": {},
   "outputs": [],
   "source": [
    "c1 = np.array([1, 1, 1, 1, 1, 1])\n",
    "c1"
   ]
  },
  {
   "cell_type": "markdown",
   "id": "8529d209",
   "metadata": {},
   "source": [
    "#### Gradient component (zero-curl)"
   ]
  },
  {
   "cell_type": "code",
   "execution_count": null,
   "id": "a7743cdc",
   "metadata": {},
   "outputs": [],
   "source": [
    "c_G = B1.T @ np.linalg.pinv(B1 @ B1.T) @ B1 @ c1\n",
    "c_G"
   ]
  },
  {
   "cell_type": "markdown",
   "id": "eeb89ce7",
   "metadata": {},
   "source": [
    "Indeed, $\\mathrm{curl}(\\mathbf{c}_1) = \\mathbf{B}_2^T \\mathbf{c}_1$ is zero for $\\mathbf{c}_1^G$"
   ]
  },
  {
   "cell_type": "code",
   "execution_count": null,
   "id": "35130e76",
   "metadata": {},
   "outputs": [],
   "source": [
    "B2.T @ c_G"
   ]
  },
  {
   "cell_type": "markdown",
   "id": "12eec993",
   "metadata": {},
   "source": [
    "Moreover, $\\mathbf{L}_1^{UP} \\mathbf{c}_1^G = 0$"
   ]
  },
  {
   "cell_type": "code",
   "execution_count": null,
   "id": "9f8e3ee4",
   "metadata": {},
   "outputs": [],
   "source": [
    "B2 @ B2.T @ c_G"
   ]
  },
  {
   "cell_type": "markdown",
   "id": "e5aadf9d",
   "metadata": {},
   "source": [
    "For every gradient compoment $\\mathbf{c}_1^G$ there exists a potential function $\\mathbf{c}_0$ such that $\\mathrm{grad}(\\mathbf{c}_0) = \\mathbf{c}_1^G$"
   ]
  },
  {
   "cell_type": "code",
   "execution_count": null,
   "id": "f4080cb9",
   "metadata": {},
   "outputs": [],
   "source": [
    "c0_potential = np.linalg.pinv(B1 @ B1.T) @ B1 @ c1\n",
    "c0_potential"
   ]
  },
  {
   "cell_type": "markdown",
   "id": "c5376492",
   "metadata": {},
   "source": [
    "Indeed, $\\mathrm{grad}(\\mathbf{c}_0) = \\mathbf{B}_1^T \\mathbf{c}_0$ equals  $\\mathbf{c}_1^G$"
   ]
  },
  {
   "cell_type": "code",
   "execution_count": null,
   "id": "4c9917e4",
   "metadata": {},
   "outputs": [],
   "source": [
    "B1.T @ c0_potential, np.isclose(B1.T @ c0_potential, c_G)"
   ]
  },
  {
   "cell_type": "markdown",
   "id": "eccab3ff",
   "metadata": {},
   "source": [
    "#### Solenoidal component (zero-div)"
   ]
  },
  {
   "cell_type": "code",
   "execution_count": null,
   "id": "bd49fc47",
   "metadata": {},
   "outputs": [],
   "source": [
    "c_S = B2 @ np.linalg.pinv(B2.T @ B2) @ B2.T @ c1\n",
    "c_S"
   ]
  },
  {
   "cell_type": "markdown",
   "id": "f94e4d3b",
   "metadata": {},
   "source": [
    "Indeed, $\\mathrm{div}(\\mathbf{c}_1) = \\mathbf{B}_1 \\mathbf{c}_1$ is zero for $\\mathbf{c}_1^S$"
   ]
  },
  {
   "cell_type": "code",
   "execution_count": null,
   "id": "bdc2595a",
   "metadata": {},
   "outputs": [],
   "source": [
    "B1 @ c_S"
   ]
  },
  {
   "cell_type": "markdown",
   "id": "56c9dd71",
   "metadata": {},
   "source": [
    "Moreover, $\\mathbf{L}_1^{LOW} \\mathbf{c}_1^S = 0$"
   ]
  },
  {
   "cell_type": "code",
   "execution_count": null,
   "id": "c9ceaae9",
   "metadata": {},
   "outputs": [],
   "source": [
    "B1.T @ B1 @ c_S"
   ]
  },
  {
   "cell_type": "markdown",
   "id": "d430e637",
   "metadata": {},
   "source": [
    "#### Harmonic component"
   ]
  },
  {
   "cell_type": "code",
   "execution_count": null,
   "id": "2aa3679c",
   "metadata": {},
   "outputs": [],
   "source": [
    "c_H = c1 - c_G - c_S\n",
    "c_H"
   ]
  },
  {
   "cell_type": "markdown",
   "id": "8e95e42a",
   "metadata": {},
   "source": [
    "Harmonic component is both zero-curl and zero-div"
   ]
  },
  {
   "cell_type": "code",
   "execution_count": null,
   "id": "a9997b8a",
   "metadata": {},
   "outputs": [],
   "source": [
    "B2.T @ c_H # zero-curl"
   ]
  },
  {
   "cell_type": "code",
   "execution_count": null,
   "id": "9d6dacb5",
   "metadata": {},
   "outputs": [],
   "source": [
    "B1 @ c_S # zero-div"
   ]
  },
  {
   "cell_type": "markdown",
   "id": "78881249",
   "metadata": {},
   "source": [
    "Moreover, $\\mathbf{L}_1 \\mathbf{c}_1^H = 0$"
   ]
  },
  {
   "cell_type": "code",
   "execution_count": null,
   "id": "4aba6d27",
   "metadata": {},
   "outputs": [],
   "source": [
    "L1 = B1.T @ B1 + B2 @ B2.T\n",
    "L1 @ c_H"
   ]
  },
  {
   "cell_type": "markdown",
   "id": "1ecc7775",
   "metadata": {},
   "source": [
    "## Ranking"
   ]
  },
  {
   "cell_type": "code",
   "execution_count": null,
   "id": "a44f3d5a",
   "metadata": {},
   "outputs": [],
   "source": [
    "K = SimplicialComplex()\n",
    "\n",
    "K.add([1, 2])\n",
    "K.add([2, 3])\n",
    "K.add([3, 4])\n",
    "K.add([1, 4, 5])\n",
    "\n",
    "K.simplices"
   ]
  },
  {
   "cell_type": "markdown",
   "id": "909725ee",
   "metadata": {},
   "source": [
    "Edge function of pairwise and triplewise $(1, 4, 5)$ rankings "
   ]
  },
  {
   "cell_type": "code",
   "execution_count": null,
   "id": "c0e06577",
   "metadata": {},
   "outputs": [],
   "source": [
    "c1 = np.array([1, 1, 2, 1, 1, 1])\n",
    "c1"
   ]
  },
  {
   "cell_type": "markdown",
   "id": "3c605b1a",
   "metadata": {},
   "source": [
    "As the gradient flow $\\mathbf{c}_1^G$ induces global ranking find its potential function $\\mathbf{c}_0$\n",
    "\n",
    "\\begin{equation}\n",
    "    \\mathbf{c}_0 = (\\mathbf{B}_1 \\mathbf{B}_1^T)^+ \\mathbf{B}_1\\mathbf{c}_1\n",
    "\\end{equation}"
   ]
  },
  {
   "cell_type": "code",
   "execution_count": null,
   "id": "7c963fd9",
   "metadata": {},
   "outputs": [],
   "source": [
    "c0_potential = np.linalg.pinv(B1 @ B1.T) @ B1 @ c1\n",
    "c0_potential"
   ]
  },
  {
   "cell_type": "markdown",
   "id": "7d1f35c6",
   "metadata": {},
   "source": [
    "Rank vertices according the potential function (here coincides with the vertex ordering)"
   ]
  },
  {
   "cell_type": "code",
   "execution_count": null,
   "id": "febec4a8",
   "metadata": {},
   "outputs": [],
   "source": [
    "np.argsort(c0_potential)"
   ]
  }
 ],
 "metadata": {
  "kernelspec": {
   "display_name": "Python 3 (ipykernel)",
   "language": "python",
   "name": "python3"
  },
  "language_info": {
   "codemirror_mode": {
    "name": "ipython",
    "version": 3
   },
   "file_extension": ".py",
   "mimetype": "text/x-python",
   "name": "python",
   "nbconvert_exporter": "python",
   "pygments_lexer": "ipython3",
   "version": "3.10.2"
  }
 },
 "nbformat": 4,
 "nbformat_minor": 5
}
