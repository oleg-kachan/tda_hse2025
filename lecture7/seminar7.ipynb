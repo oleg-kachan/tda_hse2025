{
 "cells": [
  {
   "cell_type": "code",
   "execution_count": null,
   "id": "b3b9716f",
   "metadata": {},
   "outputs": [],
   "source": [
    "!pip install sympy\n",
    "!pip install networkx"
   ]
  },
  {
   "cell_type": "code",
   "execution_count": null,
   "id": "4cc003d7",
   "metadata": {},
   "outputs": [],
   "source": [
    "%matplotlib inline\n",
    "import matplotlib.pyplot as plt\n",
    "\n",
    "import numpy as np\n",
    "import networkx as nx\n",
    "\n",
    "from itertools import permutations\n",
    "from sympy.combinatorics.permutations import Permutation\n",
    "\n",
    "import sys \n",
    "sys.path.append(\"../lecture6/\")\n",
    "import simplicial\n",
    "import simplicial.drawing\n",
    "from simplicialx.simplicial import SimplicialComplex\n",
    "\n",
    "from sklearn.ensemble import RandomForestClassifier\n",
    "from sklearn.model_selection import cross_val_score\n",
    "\n",
    "from tqdm import tqdm\n",
    "\n",
    "np.set_printoptions(precision=2, suppress=True)"
   ]
  },
  {
   "cell_type": "code",
   "execution_count": null,
   "id": "29477786",
   "metadata": {},
   "outputs": [],
   "source": [
    "def neighbors_lower(x_id, A):\n",
    "    LT = np.tril(A)\n",
    "    return list(np.nonzero(LT[x_id])[0])\n",
    "\n",
    "def intersect(d):\n",
    "    return list(set(d[0]).intersection(*d))\n",
    "\n",
    "def grade(K):\n",
    "    dim = len(max(K, key=len))\n",
    "    K_graded = [[] for _ in range(dim)]\n",
    "    for sigma in K:\n",
    "        dim_sigma = len(sigma) - 1\n",
    "        #print(\"{}-dim simplex: {}\".format(dim_sigma, sigma))\n",
    "        if dim_sigma == 0:\n",
    "            sigma = sigma[0]\n",
    "        K_graded[dim_sigma].append(sigma)\n",
    "        \n",
    "    for k, item in enumerate(K_graded):\n",
    "        if k==0:\n",
    "            item_array = np.expand_dims(np.array(item), 1)\n",
    "        else:\n",
    "            item_array = np.array(item)\n",
    "        \n",
    "        K_graded[k] = item_array\n",
    "\n",
    "    return K_graded\n",
    "\n",
    "def expand_incremental(G, k=2):\n",
    "    \n",
    "    k = k+1 # k-clique instead of (k-1)-simplex\n",
    "    \n",
    "    def add_cofaces(A, k, tau, N_lower, simplices):\n",
    "        \n",
    "        # V = V \\cup tau\n",
    "        simplices.append(tau)\n",
    "        \n",
    "        # if dim(tau) >= k\n",
    "        if len(tau) >= k:\n",
    "            return\n",
    "        else:\n",
    "            # foreach v \\in N\n",
    "            for v in N_lower:\n",
    "                \n",
    "                # \\sigma = \\tau \\cup v\n",
    "                sigma = sorted(tau + [v])\n",
    "                M = intersect([N_lower, neighbors_lower(v, A)])\n",
    "                add_cofaces(A, k, sigma, M, simplices)\n",
    "            \n",
    "        \n",
    "        return simplices\n",
    "    \n",
    "    simplices = []\n",
    "    A = nx.to_numpy_array(G)\n",
    "\n",
    "    # define vertex set\n",
    "    V = [item for item in nx.nodes(G)]\n",
    "    \n",
    "    for u in V:\n",
    "        N_lower = neighbors_lower(u, A)\n",
    "        add_cofaces(A, k, [u], N_lower, simplices)\n",
    "    \n",
    "    return grade(simplices)\n",
    "\n",
    "def boundary_matrix(K, k=1):\n",
    "    \n",
    "    # get simplices, lists of arrays\n",
    "    sigmas, taus = K[k], K[k-1]\n",
    "    \n",
    "    # init boundary matrix B\n",
    "    B = np.zeros((len(taus), len(sigmas)))\n",
    "    \n",
    "    # iterate over columns of B, i.e. k-simplices sigmas\n",
    "    for j, sigma in enumerate(sigmas):\n",
    "        \n",
    "        # omit h-th vertex in a k-simplex sigma\n",
    "        for h in range(k+1):\n",
    "            \n",
    "            idx_h = np.ones(k+1).astype(bool)\n",
    "            idx_h[h] = False\n",
    "            \n",
    "            # get k-1 simplex tau and find i of it\n",
    "            tau = sigma[idx_h]\n",
    "            i = np.flatnonzero(np.equal(taus, tau).all(axis=1))[0]\n",
    "            \n",
    "            B[i,j] = (-1) ** h # orientation sign\n",
    "            \n",
    "    return B\n",
    "\n",
    "def generalized_boundary_matrix(K, k=1, p=1, eta_sign=1):\n",
    "    \n",
    "    # get simplices, lists of arrays\n",
    "    sigmas, taus = K[k], K[k-p]\n",
    "    \n",
    "    # init boundary matrix B\n",
    "    B = np.zeros((len(taus), len(sigmas)))\n",
    "    \n",
    "    # iterate over columns of B, i.e. k-simplices sigmas\n",
    "    for j, sigma in enumerate(sigmas):\n",
    "        \n",
    "        mask = np.ones(k+1).astype(bool)\n",
    "        mask[:p] = False\n",
    "\n",
    "        # omit h_1,...,h_j vertices in a k-simplex sigma\n",
    "        for idx in np.array(sorted(set(permutations(mask)))):\n",
    "\n",
    "            # get k-p simplex tau and find i of it\n",
    "            tau = sigma[idx]\n",
    "            i = np.flatnonzero(np.equal(taus, tau).all(axis=1))[0]\n",
    "\n",
    "            vertices_in = list(np.array(range(k+1))[idx])\n",
    "            vertices_out = list(np.array(range(k+1))[~idx])\n",
    "\n",
    "            B[i,j] = eta_sign * Permutation(vertices_out + vertices_in).signature() # orientation sign\n",
    "            \n",
    "    return B\n",
    "\n",
    "def normalize(L):\n",
    "    n = L.shape[0]\n",
    "    D = np.diag(np.diag(L)) + np.eye(n) * 1e-9\n",
    "    D_inv = np.linalg.inv(D)\n",
    "    return D_inv @ L"
   ]
  },
  {
   "cell_type": "code",
   "execution_count": null,
   "id": "a3fe39c8",
   "metadata": {},
   "outputs": [],
   "source": [
    "def orient(B):\n",
    "    \n",
    "    BB = np.zeros_like(B).astype(int)\n",
    "\n",
    "    for j, column_ in enumerate(B.T):\n",
    "        column = np.copy(column_)\n",
    "        nonzero_idx, = np.nonzero(column)\n",
    "        column[nonzero_idx[-2]] = -1\n",
    "        BB[:,j] = column\n",
    "        \n",
    "    return BB"
   ]
  },
  {
   "cell_type": "markdown",
   "id": "a1484fb7",
   "metadata": {},
   "source": [
    "# Seminar 7: Higher-order Laplacian\n",
    "\n",
    "## Graph Laplacian\n",
    "\n",
    "Consider the graph $G$. Given its adjacency and incidence matrices arrive to the Laplacian matrix built by both adjacency and incidence approach. Check whether the Laplacian matrices are the same. Compute the spectrum of the graph Laplacian, what can be said of the topology of the graph $G$ based on the computed spectrum?"
   ]
  },
  {
   "cell_type": "code",
   "execution_count": null,
   "id": "17a28647",
   "metadata": {},
   "outputs": [],
   "source": [
    "# create graph\n",
    "cmplx = simplicial.SimplicialComplex()\n",
    "\n",
    "# add 0-simplices (vertices)\n",
    "v1 = cmplx.addSimplex(id=\"v1\")\n",
    "v2 = cmplx.addSimplex(id=\"v2\")\n",
    "v3 = cmplx.addSimplex(id=\"v3\")\n",
    "v4 = cmplx.addSimplex(id=\"v4\")\n",
    "v5 = cmplx.addSimplex(id=\"v5\")\n",
    "v6 = cmplx.addSimplex(id=\"v6\")\n",
    "v7 = cmplx.addSimplex(id=\"v7\")\n",
    "\n",
    "# add 1-simplices (edges)\n",
    "cmplx.addSimplex(['v2', 'v3'], id=\"e1\")\n",
    "cmplx.addSimplex(['v4', 'v5'], id=\"e2\")\n",
    "cmplx.addSimplex(['v4', 'v6'], id=\"e3\")\n",
    "cmplx.addSimplex(['v5', 'v6'], id=\"e4\")\n",
    "cmplx.addSimplex(['v5', 'v7'], id=\"e5\")\n",
    "cmplx.addSimplex(['v6', 'v7'], id=\"e6\")"
   ]
  },
  {
   "cell_type": "code",
   "execution_count": null,
   "id": "8bad2b61",
   "metadata": {},
   "outputs": [],
   "source": [
    "# set coordinates for vertices\n",
    "em = simplicial.Embedding(cmplx)\n",
    "em.positionSimplex(v1, (0.0, 0.5))\n",
    "\n",
    "em.positionSimplex(v2, (0.25, 1.0))\n",
    "em.positionSimplex(v3, (0.25, 0.0))\n",
    "\n",
    "em.positionSimplex(v4, (1.0, 1.0))\n",
    "em.positionSimplex(v5, (0.5, 0.66))\n",
    "em.positionSimplex(v6, (1.0, 0.33))\n",
    "em.positionSimplex(v7, (0.5, 0.0))\n",
    "\n",
    "# draw simplicial complex\n",
    "fig = plt.figure(figsize=(6,6))\n",
    "plt.title(\"Geometric realization of a graph $G$\")\n",
    "simplicial.drawing.draw_complex(cmplx, em)"
   ]
  },
  {
   "cell_type": "markdown",
   "id": "0c4cef2c",
   "metadata": {},
   "source": [
    "#### Adjacency matrix"
   ]
  },
  {
   "cell_type": "code",
   "execution_count": null,
   "id": "e3a2cee1",
   "metadata": {},
   "outputs": [],
   "source": [
    "A = np.array([\n",
    "    [0, 0, 1, 1, 0, 0, 0], # v4\n",
    "    [0, 0, 0, 0, 0, 0, 1], # v2\n",
    "    [1, 0, 0, 1, 1, 0, 0], # v5\n",
    "    [1, 0, 1, 0, 1, 0, 0], # v6\n",
    "    [0, 0, 1, 1, 0, 0, 0], # v7\n",
    "    [0, 0, 0, 0, 0, 0, 0], # v1\n",
    "    [0, 1, 0, 0, 0, 0, 0], # v3\n",
    "])\n",
    "\n",
    "A"
   ]
  },
  {
   "cell_type": "markdown",
   "id": "c3dacb8b",
   "metadata": {},
   "source": [
    "#### Degree matrix\n",
    "\n",
    "Compute the degree matrix $\\mathbf{D}$ based on the adjacency matrix."
   ]
  },
  {
   "cell_type": "code",
   "execution_count": null,
   "id": "f21499c7",
   "metadata": {},
   "outputs": [],
   "source": [
    "D = # your code here\n",
    "D"
   ]
  },
  {
   "cell_type": "markdown",
   "id": "69763431",
   "metadata": {},
   "source": [
    "#### Incidence matrix"
   ]
  },
  {
   "cell_type": "code",
   "execution_count": null,
   "id": "f8685a64",
   "metadata": {},
   "outputs": [],
   "source": [
    "B = orient(cmplx.boundaryMatrix(k=1))\n",
    "B"
   ]
  },
  {
   "cell_type": "markdown",
   "id": "af933016",
   "metadata": {},
   "source": [
    "#### Laplacians"
   ]
  },
  {
   "cell_type": "code",
   "execution_count": null,
   "id": "15720168",
   "metadata": {},
   "outputs": [],
   "source": [
    "LA = # your code here\n",
    "LB = \n",
    "\n",
    "LA == LB"
   ]
  },
  {
   "cell_type": "markdown",
   "id": "5755387c",
   "metadata": {},
   "source": [
    "#### Laplacians' spectra"
   ]
  },
  {
   "cell_type": "code",
   "execution_count": null,
   "id": "df1dfdc4",
   "metadata": {},
   "outputs": [],
   "source": [
    "# your code here"
   ]
  },
  {
   "cell_type": "markdown",
   "id": "d6b6b108",
   "metadata": {},
   "source": [
    "## Higher-order Laplacian\n",
    "\n",
    "### Graph"
   ]
  },
  {
   "cell_type": "code",
   "execution_count": null,
   "id": "ae68c3b9",
   "metadata": {},
   "outputs": [],
   "source": [
    "# draw simplicial complex\n",
    "fig = plt.figure(figsize=(6,6))\n",
    "plt.title(\"Geometric realization of a graph $G$\")\n",
    "simplicial.drawing.draw_complex(cmplx, em)"
   ]
  },
  {
   "cell_type": "markdown",
   "id": "ff49f097",
   "metadata": {},
   "source": [
    "#### Edge-vertex boundary matrix"
   ]
  },
  {
   "cell_type": "code",
   "execution_count": null,
   "id": "e6a1c6b7",
   "metadata": {},
   "outputs": [],
   "source": [
    "B1 = orient(cmplx.boundaryMatrix(k=1))\n",
    "B1"
   ]
  },
  {
   "cell_type": "markdown",
   "id": "aa2a079e",
   "metadata": {},
   "source": [
    "#### Laplacian $L_0$\n",
    "\n",
    "The lower part of the $L_0$ Laplacian is zero as $\\partial_0: C_0 \\rightarrow 0$ is a zero map.\n",
    "\n",
    "\\begin{align}\n",
    "\\mathbf{L}_k &= \\mathbf{B}_k^T \\mathbf{B}_k + \\mathbf{B}_{k+1} \\mathbf{B}_{k+1}^T\\\\\n",
    "\\mathbf{L}_0 &= \\color{red}{\\mathbf{B}_0^T \\mathbf{B}_0} + \\mathbf{B}_1 \\mathbf{B}_1^T\n",
    "\\end{align}"
   ]
  },
  {
   "cell_type": "code",
   "execution_count": null,
   "id": "e5331eaa",
   "metadata": {},
   "outputs": [],
   "source": [
    "L0 = B1 @ B1.T\n",
    "L0, np.linalg.eigvalsh(L0)"
   ]
  },
  {
   "cell_type": "markdown",
   "id": "ff2d15e0",
   "metadata": {},
   "source": [
    "#### Laplacian $L_1$\n",
    "\n",
    "The upper part of the $L_1$ Laplacian of a graph (a simplicial complex of dimension one) is zero as $\\partial_2: C_2 \\rightarrow C_1$ is a zero map, as $C_2$ is empty.\n",
    "\n",
    "\\begin{align}\n",
    "\\mathbf{L}_k &= \\mathbf{B}_k^T \\mathbf{B}_k + \\mathbf{B}_{k+1} \\mathbf{B}_{k+1}^T\\\\\n",
    "\\mathbf{L}_1 &= \\mathbf{B}_1^T \\mathbf{B}_1 + \\color{red}{\\mathbf{B}_2 \\mathbf{B}_2^T}\n",
    "\\end{align}"
   ]
  },
  {
   "cell_type": "code",
   "execution_count": null,
   "id": "e314e812",
   "metadata": {},
   "outputs": [],
   "source": [
    "L1 = B1.T @ B1\n",
    "L1, np.linalg.eigvalsh(L1)"
   ]
  },
  {
   "cell_type": "markdown",
   "id": "1da81aa4",
   "metadata": {},
   "source": [
    "### Simplicial complex"
   ]
  },
  {
   "cell_type": "code",
   "execution_count": null,
   "id": "8038e787",
   "metadata": {},
   "outputs": [],
   "source": [
    "# add 2-simplex (triangle)\n",
    "cmplx.addSimplex(['e2', 'e3', 'e4'], id=\"t1\")"
   ]
  },
  {
   "cell_type": "code",
   "execution_count": null,
   "id": "88e76142",
   "metadata": {},
   "outputs": [],
   "source": [
    "# draw simplicial complex\n",
    "fig = plt.figure(figsize=(6,6))\n",
    "plt.title(\"Geometric realization of a simplicial complex $K$\")\n",
    "simplicial.drawing.draw_complex(cmplx, em)"
   ]
  },
  {
   "cell_type": "markdown",
   "id": "6486b094",
   "metadata": {},
   "source": [
    "#### Edge-vertex boundary matrix"
   ]
  },
  {
   "cell_type": "code",
   "execution_count": null,
   "id": "6f68099c",
   "metadata": {},
   "outputs": [],
   "source": [
    "B1 = orient(cmplx.boundaryMatrix(k=1))\n",
    "B1"
   ]
  },
  {
   "cell_type": "markdown",
   "id": "e8b3b5b8",
   "metadata": {},
   "source": [
    "#### Triangle-edge boundary matrix"
   ]
  },
  {
   "cell_type": "code",
   "execution_count": null,
   "id": "400b33e5",
   "metadata": {},
   "outputs": [],
   "source": [
    "B2 = orient(cmplx.boundaryMatrix(k=2))\n",
    "B2"
   ]
  },
  {
   "cell_type": "markdown",
   "id": "75c2944c",
   "metadata": {},
   "source": [
    "#### Laplacian $L_1$\n",
    "\n",
    "In general the Laplacian matrix is the sum of the lower and upper parts."
   ]
  },
  {
   "cell_type": "markdown",
   "id": "078a41f5",
   "metadata": {},
   "source": [
    "\\begin{align}\n",
    "\\mathbf{L}_k &= \\mathbf{B}_k^T \\mathbf{B}_k + \\mathbf{B}_{k+1} \\mathbf{B}_{k+1}^T\\\\\n",
    "\\mathbf{L}_1 &= \\mathbf{B}_1^T \\mathbf{B}_1 + \\mathbf{B}_2 \\mathbf{B}_2^T\n",
    "\\end{align}"
   ]
  },
  {
   "cell_type": "markdown",
   "id": "beaf5282",
   "metadata": {},
   "source": [
    "#### Lower Laplacian $L_1$"
   ]
  },
  {
   "cell_type": "code",
   "execution_count": null,
   "id": "c8355fa8",
   "metadata": {},
   "outputs": [],
   "source": [
    "L1_lower = B1.T @ B1\n",
    "L1_lower, np.linalg.eigvalsh(L1_lower)"
   ]
  },
  {
   "cell_type": "markdown",
   "id": "474622f2",
   "metadata": {},
   "source": [
    "#### Upper Laplacian $L_1$"
   ]
  },
  {
   "cell_type": "code",
   "execution_count": null,
   "id": "7dc8ac1a",
   "metadata": {},
   "outputs": [],
   "source": [
    "L1_upper = B2 @ B2.T\n",
    "L1_upper, np.linalg.eigvalsh(L1_upper)"
   ]
  },
  {
   "cell_type": "markdown",
   "id": "18718cb8",
   "metadata": {},
   "source": [
    "#### Laplacian $L_1$"
   ]
  },
  {
   "cell_type": "code",
   "execution_count": null,
   "id": "103b14b1",
   "metadata": {},
   "outputs": [],
   "source": [
    "L1 = B1.T @ B1 + B2 @ B2.T\n",
    "L1, np.linalg.eigvalsh(L1)"
   ]
  },
  {
   "cell_type": "markdown",
   "id": "58f4962e",
   "metadata": {},
   "source": [
    "### Simplicial Wattz-Strogatz model"
   ]
  },
  {
   "cell_type": "code",
   "execution_count": null,
   "id": "58b03935",
   "metadata": {},
   "outputs": [],
   "source": [
    "n, m, ps = 50, 10, [0.04, 0.08, 0.2]\n",
    "\n",
    "fig, ax = plt.subplots(nrows=1, ncols=3, figsize=(16.5,5), dpi=200)\n",
    "\n",
    "def stack(idx):\n",
    "    ret = np.empty((0, 2))\n",
    "    for _id in idx:\n",
    "        ret = np.vstack((ret, X[_id,:]))\n",
    "    return ret\n",
    "\n",
    "for i, p_i in enumerate(ps):\n",
    "    \n",
    "    G = nx.generators.random_graphs.watts_strogatz_graph(n, m, p_i)\n",
    "    K = expand_incremental(G, k=2)\n",
    "    \n",
    "    # boundary matrices\n",
    "    B1 = boundary_matrix(K, k=1)\n",
    "    B2 = boundary_matrix(K, k=2)\n",
    "    \n",
    "    # Laplacians\n",
    "    L0 = B1 @ B1.T\n",
    "    L1 = B1.T @ B1 + B2 @ B2.T\n",
    "    \n",
    "    # eigenvalues/vectors\n",
    "    eigenvalues_v, eigenvectors_v = np.linalg.eigh(L0)\n",
    "    eigenvalues_e, eigenvectors_e = np.linalg.eigh(L1)\n",
    "    \n",
    "    # average clustering coefficient/shortest path lengths of nodes\n",
    "    average_clustering = nx.average_clustering(G)\n",
    "    average_shortest_path_length = nx.average_shortest_path_length(G)\n",
    "    \n",
    "    X_dict = nx.kamada_kawai_layout(G)\n",
    "    X = np.zeros((n,2))\n",
    "    for j in X_dict:\n",
    "        X[j] = X_dict[j]\n",
    "    \n",
    "    ax[i].set_title(\"p={}, $\\Gamma$={:.2f}, $\\Pi$={:.2f}\".format(p_i, average_clustering, average_shortest_path_length))\n",
    "    ax[i].scatter(X[:,0], X[:,1], c=\"k\", s=10)\n",
    "\n",
    "    # plot edges\n",
    "    for e in G.edges():\n",
    "        (start_id, end_id) = e\n",
    "        ax[i].plot([X[start_id,0], X[end_id,0]], [X[start_id,1], X[end_id,1]], 'c-', alpha=0.5)\n",
    "        \n",
    "    # plot triangles\n",
    "    for triangle in K[2]:\n",
    "        t = plt.Polygon(stack(triangle), color=\"blue\", alpha=0.02)\n",
    "        ax[i].add_patch(t)\n",
    "\n",
    "plt.show()"
   ]
  },
  {
   "cell_type": "markdown",
   "id": "5b7a5614",
   "metadata": {},
   "source": [
    "#### Higher-order Laplacian spectra"
   ]
  },
  {
   "cell_type": "code",
   "execution_count": null,
   "id": "2d720536",
   "metadata": {},
   "outputs": [],
   "source": [
    "N = 100\n",
    "\n",
    "spectra0 = []\n",
    "spectra012 = []\n",
    "spectra1 = []\n",
    "spectra0_norm = []\n",
    "spectra012_norm = []\n",
    "spectra1_norm = []\n",
    "\n",
    "for p_i in tqdm(np.repeat(ps, N)):\n",
    "    \n",
    "    # generate graph\n",
    "    G = nx.generators.random_graphs.watts_strogatz_graph(n, m, p_i)\n",
    "    \n",
    "    # clique complex of graph\n",
    "    K = expand_incremental(G, k=2)\n",
    "    \n",
    "    # boundary matrices\n",
    "    B1 = boundary_matrix(K, k=1)\n",
    "    B2 = boundary_matrix(K, k=2)\n",
    "    B22 = generalized_boundary_matrix(K, k=2, p=2)\n",
    "    \n",
    "    # Laplacians\n",
    "    L0 = B1 @ B1.T\n",
    "    L1 = B1.T @ B1 + B2 @ B2.T\n",
    "    L012 = B22 @ B22.T\n",
    "    \n",
    "    # normalized Laplacians\n",
    "    L0_norm = normalize(L0)\n",
    "    L1_norm = normalize(L1)\n",
    "    L012_norm = normalize(L012)\n",
    "    \n",
    "    # eigenvalues\n",
    "    eigenvalues_v, _ = np.linalg.eigh(L0)\n",
    "    eigenvalues_e, _ = np.linalg.eigh(L1)\n",
    "    eigenvalues_vt, _ = np.linalg.eigh(L012)\n",
    "    eigenvalues_v_norm = np.sort(np.linalg.eigvals(L0_norm))\n",
    "    eigenvalues_e_norm = np.sort(np.linalg.eigvals(L1_norm))\n",
    "    eigenvalues_vt_norm = np.sort(np.linalg.eigvals(L012_norm))\n",
    "    \n",
    "    spectra0.append(eigenvalues_v)\n",
    "    spectra1.append(eigenvalues_e)\n",
    "    spectra012.append(eigenvalues_vt)\n",
    "    spectra0_norm.append(eigenvalues_v_norm)\n",
    "    spectra1_norm.append(eigenvalues_e_norm)\n",
    "    spectra012_norm.append(eigenvalues_vt_norm)\n",
    "    \n",
    "spectra0 = np.array(spectra0)\n",
    "spectra1 = np.array(spectra1)\n",
    "spectra012 = np.array(spectra012)\n",
    "spectra0_norm = np.array(spectra0_norm)\n",
    "spectra1_norm = np.array(spectra1_norm)\n",
    "spectra012_norm = np.array(spectra012_norm)"
   ]
  },
  {
   "cell_type": "code",
   "execution_count": null,
   "id": "d4047683",
   "metadata": {},
   "outputs": [],
   "source": [
    "fig, ax = plt.subplots(nrows=1, ncols=3, figsize=(16.5,5), dpi=200)\n",
    "ax[0].set_title(\"$L_0$ spectrum\")\n",
    "ax[1].set_title(\"$L_{1}$ spectrum\")\n",
    "ax[2].set_title(\"$L_{012}$ spectrum\")\n",
    "ax[0].plot(spectra0[0:N].T, c=\"r\", alpha=0.33)\n",
    "ax[0].plot(spectra0[N:N*2].T, c=\"g\", alpha=0.4)\n",
    "ax[0].plot(spectra0[N*2:N*3].T, c=\"b\", alpha=0.1)\n",
    "ax[1].plot(spectra1[0:N].T, c=\"r\", alpha=0.33)\n",
    "ax[1].plot(spectra1[N:2*N].T, c=\"g\", alpha=0.4)\n",
    "ax[1].plot(spectra1[N*2:N*3].T, c=\"b\", alpha=0.1)\n",
    "ax[2].plot(spectra012[0:N].T, c=\"r\", alpha=0.33)\n",
    "ax[2].plot(spectra012[N:2*N].T, c=\"g\", alpha=0.4)\n",
    "ax[2].plot(spectra012[N*2:N*3].T, c=\"b\", alpha=0.1)\n",
    "plt.show()"
   ]
  },
  {
   "cell_type": "markdown",
   "id": "f8766ae7",
   "metadata": {},
   "source": [
    "### Classification"
   ]
  },
  {
   "cell_type": "code",
   "execution_count": null,
   "id": "93ce186b",
   "metadata": {},
   "outputs": [],
   "source": [
    "n_repeats = 10\n",
    "y = np.concatenate((np.ones(N) * 0, np.ones(N) * 1, np.ones(N) * 2))"
   ]
  },
  {
   "cell_type": "markdown",
   "id": "5894a619",
   "metadata": {},
   "source": [
    "#### Laplacian $L_0$"
   ]
  },
  {
   "cell_type": "code",
   "execution_count": null,
   "id": "4595de88",
   "metadata": {},
   "outputs": [],
   "source": [
    "%%time\n",
    "results = []\n",
    "for r in range(n_repeats):\n",
    "    clf = RandomForestClassifier(random_state=r)\n",
    "    results.append(list(cross_val_score(clf, spectra0, y, cv=5)))\n",
    "    \n",
    "results = np.array(results)\n",
    "print(\"{:.4f}\".format(np.mean(results) * 100))"
   ]
  },
  {
   "cell_type": "markdown",
   "id": "6f61607a",
   "metadata": {},
   "source": [
    "#### Laplacian $L_1$"
   ]
  },
  {
   "cell_type": "code",
   "execution_count": null,
   "id": "ed9e146b",
   "metadata": {},
   "outputs": [],
   "source": [
    "%%time\n",
    "results = []\n",
    "for r in range(n_repeats):\n",
    "    clf = RandomForestClassifier(random_state=r)\n",
    "    results.append(list(cross_val_score(clf, spectra1, y, cv=5)))\n",
    "    \n",
    "results = np.array(results)\n",
    "print(\"{:.4f}\".format(np.mean(results) * 100))"
   ]
  },
  {
   "cell_type": "markdown",
   "id": "2855166f",
   "metadata": {},
   "source": [
    "#### Laplacian $L_{012}$"
   ]
  },
  {
   "cell_type": "code",
   "execution_count": null,
   "id": "cb38c4bb",
   "metadata": {},
   "outputs": [],
   "source": [
    "%%time\n",
    "results = []\n",
    "for r in range(n_repeats):\n",
    "    clf = RandomForestClassifier(random_state=r)\n",
    "    results.append(list(cross_val_score(clf, spectra012, y, cv=5)))\n",
    "    \n",
    "results = np.array(results)\n",
    "print(\"{:.4f}\".format(np.mean(results) * 100))"
   ]
  },
  {
   "cell_type": "code",
   "execution_count": null,
   "id": "16588358",
   "metadata": {},
   "outputs": [],
   "source": []
  }
 ],
 "metadata": {
  "kernelspec": {
   "display_name": "Python 3 (ipykernel)",
   "language": "python",
   "name": "python3"
  },
  "language_info": {
   "codemirror_mode": {
    "name": "ipython",
    "version": 3
   },
   "file_extension": ".py",
   "mimetype": "text/x-python",
   "name": "python",
   "nbconvert_exporter": "python",
   "pygments_lexer": "ipython3",
   "version": "3.10.2"
  }
 },
 "nbformat": 4,
 "nbformat_minor": 5
}
