{
 "cells": [
  {
   "cell_type": "code",
   "execution_count": null,
   "id": "3cca6e7c",
   "metadata": {},
   "outputs": [],
   "source": [
    "from __future__ import print_function\n",
    "\n",
    "%matplotlib inline\n",
    "import matplotlib.pyplot as plt\n",
    "\n",
    "import numpy as np\n",
    "import networkx as nx\n",
    "\n",
    "import simplicial\n",
    "import simplicial.drawing\n",
    "\n",
    "from simplicialx.simplicial import SimplicialComplex"
   ]
  },
  {
   "cell_type": "markdown",
   "id": "703e30c6",
   "metadata": {},
   "source": [
    "## Simplicial complexes\n",
    "\n",
    "An (abstract) simplicial complex $K$ on a finite set $V$ (called a vertex set) is the family of subsets $\\sigma = \\{v_0, \\dots, v_k\\}$ of $V$ closed under inclusion. That is, for every $\\sigma \\in K$ any of its subset $\\tau \\subseteq \\sigma$ is also in $K$."
   ]
  },
  {
   "cell_type": "code",
   "execution_count": null,
   "id": "4599787a",
   "metadata": {},
   "outputs": [],
   "source": [
    "# create simplicial complex\n",
    "cmplx = simplicial.SimplicialComplex()"
   ]
  },
  {
   "cell_type": "code",
   "execution_count": null,
   "id": "e199495d",
   "metadata": {},
   "outputs": [],
   "source": [
    "# add 0-simplices (vertices)\n",
    "v1 = cmplx.addSimplex(id=\"v1\")\n",
    "v2 = cmplx.addSimplex(id=\"v2\")\n",
    "v3 = cmplx.addSimplex(id=\"v3\")\n",
    "v4 = cmplx.addSimplex(id=\"v4\")\n",
    "v5 = cmplx.addSimplex(id=\"v5\")\n",
    "v6 = cmplx.addSimplex(id=\"v6\")\n",
    "v7 = cmplx.addSimplex(id=\"v7\")"
   ]
  },
  {
   "cell_type": "code",
   "execution_count": null,
   "id": "b0056ad0",
   "metadata": {},
   "outputs": [],
   "source": [
    "# add 1-simplices (edges)\n",
    "cmplx.addSimplex(['v2', 'v3'], id=\"e1\")\n",
    "cmplx.addSimplex(['v4', 'v5'], id=\"e2\")\n",
    "cmplx.addSimplex(['v4', 'v6'], id=\"e3\")\n",
    "cmplx.addSimplex(['v5', 'v6'], id=\"e4\")\n",
    "cmplx.addSimplex(['v5', 'v7'], id=\"e5\")\n",
    "cmplx.addSimplex(['v6', 'v7'], id=\"e6\")"
   ]
  },
  {
   "cell_type": "code",
   "execution_count": null,
   "id": "951457d0",
   "metadata": {},
   "outputs": [],
   "source": [
    "# set coordinates for vertices\n",
    "em = simplicial.Embedding(cmplx)\n",
    "em.positionSimplex(v1, (0.0, 0.5))\n",
    "\n",
    "em.positionSimplex(v2, (0.25, 1.0))\n",
    "em.positionSimplex(v3, (0.25, 0.0))\n",
    "\n",
    "em.positionSimplex(v4, (1.0, 1.0))\n",
    "em.positionSimplex(v5, (0.5, 0.66))\n",
    "em.positionSimplex(v6, (1.0, 0.33))\n",
    "em.positionSimplex(v7, (0.5, 0.0))\n",
    "\n",
    "# draw simplicial complex\n",
    "fig = plt.figure(figsize=(6,6))\n",
    "plt.title(\"Geometric realization of simplicial complex\")\n",
    "simplicial.drawing.draw_complex(cmplx, em)"
   ]
  },
  {
   "cell_type": "markdown",
   "id": "0136cd6e",
   "metadata": {},
   "source": [
    "### Betti numbers\n",
    "\n",
    "_K-th Betti number_ of topological space is the rank of its' associated _k-th homological group_ and describes the number of holes of dimension $k+1$.\n",
    "\n",
    "- 1-dimensional holes (b_0) are connected components\n",
    "- 2-dimensional holes (b_1) are loops\n",
    "- 3-dimensional holes (b_2) are voids"
   ]
  },
  {
   "cell_type": "markdown",
   "id": "ba09cd3c",
   "metadata": {},
   "source": [
    "**Exercise**\n",
    "\n",
    "Evaluate the dimensionality and non-vanishing Betti numbers of a simplicial complex"
   ]
  },
  {
   "cell_type": "code",
   "execution_count": null,
   "id": "91d19576",
   "metadata": {},
   "outputs": [],
   "source": [
    "# evaluate complex dimension\n",
    "dim = cmplx.maxOrder()\n",
    "\n",
    "# evaluate Betti numbers\n",
    "betti = cmplx.bettiNumbers()"
   ]
  },
  {
   "cell_type": "code",
   "execution_count": null,
   "id": "941d1436",
   "metadata": {},
   "outputs": [],
   "source": [
    "print(\"Dimension of complex: {}\".format(dim))\n",
    "for key in betti:\n",
    "    if key <= dim:\n",
    "        print(\"Betti-{}: {}\".format(str(key), betti[key]))"
   ]
  },
  {
   "cell_type": "markdown",
   "id": "5a370462",
   "metadata": {},
   "source": [
    "### Modifying the topology of the simplicial complex\n",
    "\n",
    "**Exercise**\n",
    "\n",
    "Modify the topology of the simplicial complex by \"filling\" one of its' 2-dimensional holes by a 2-simplex which is a triangle."
   ]
  },
  {
   "cell_type": "code",
   "execution_count": null,
   "id": "b39cbb98",
   "metadata": {},
   "outputs": [],
   "source": [
    "# add 2-simplex (triangle)\n",
    "cmplx.addSimplex(['e2', 'e3', 'e4'], id=\"t1\")"
   ]
  },
  {
   "cell_type": "code",
   "execution_count": null,
   "id": "6b859f20",
   "metadata": {},
   "outputs": [],
   "source": [
    "# draw simplicial complex\n",
    "fig = plt.figure(figsize=(6,6))\n",
    "plt.title(\"Geometric realization of simplicial complex\")\n",
    "simplicial.drawing.draw_complex(cmplx, em)"
   ]
  },
  {
   "cell_type": "code",
   "execution_count": null,
   "id": "0d46b61e",
   "metadata": {},
   "outputs": [],
   "source": [
    "# evaluate complex dimension\n",
    "dim = cmplx.maxOrder()\n",
    "\n",
    "# evaluate Betti numbers\n",
    "betti = cmplx.bettiNumbers()"
   ]
  },
  {
   "cell_type": "code",
   "execution_count": null,
   "id": "3e43361d",
   "metadata": {},
   "outputs": [],
   "source": [
    "print(\"Dimension of complex: {}\".format(dim))\n",
    "for key in betti:\n",
    "    if key <= dim:\n",
    "        print(\"Betti-{}: {}\".format(str(key), betti[key]))"
   ]
  },
  {
   "cell_type": "markdown",
   "id": "0ce12ece",
   "metadata": {},
   "source": [
    "## SimplicialX"
   ]
  },
  {
   "cell_type": "markdown",
   "id": "fdb61647",
   "metadata": {},
   "source": [
    "#### Create complex"
   ]
  },
  {
   "cell_type": "code",
   "execution_count": null,
   "id": "97ba8432",
   "metadata": {},
   "outputs": [],
   "source": [
    "K_butterfly = SimplicialComplex()\n",
    "K_butterfly.simplices"
   ]
  },
  {
   "cell_type": "markdown",
   "id": "0a69c920",
   "metadata": {},
   "source": [
    "#### Add simplices"
   ]
  },
  {
   "cell_type": "code",
   "execution_count": null,
   "id": "23d4b564",
   "metadata": {},
   "outputs": [],
   "source": [
    "K_butterfly.add(np.array([1, 2, 3]))\n",
    "K_butterfly.simplices"
   ]
  },
  {
   "cell_type": "markdown",
   "id": "def1120c",
   "metadata": {},
   "source": [
    "It is also acceptable to submit simplex as a python list or tuple:"
   ]
  },
  {
   "cell_type": "code",
   "execution_count": null,
   "id": "5a37b0de",
   "metadata": {},
   "outputs": [],
   "source": [
    "K_butterfly.add((3, 4))\n",
    "K_butterfly.add([3, 5])\n",
    "K_butterfly.add([4, 5])\n",
    "K_butterfly.simplices"
   ]
  },
  {
   "cell_type": "markdown",
   "id": "b9b1a484",
   "metadata": {},
   "source": [
    "#### Incidence"
   ]
  },
  {
   "cell_type": "code",
   "execution_count": null,
   "id": "ee0941f5",
   "metadata": {},
   "outputs": [],
   "source": [
    "K_butterfly.incidence(k=1, p=1) # node-edge incidence"
   ]
  },
  {
   "cell_type": "code",
   "execution_count": null,
   "id": "bb961822",
   "metadata": {},
   "outputs": [],
   "source": [
    "K_butterfly.incidence(k=2, p=2) # node-triangle incidence"
   ]
  },
  {
   "cell_type": "code",
   "execution_count": null,
   "id": "aa538030",
   "metadata": {},
   "outputs": [],
   "source": [
    "K_butterfly.incidence(k=2, p=1) # edge-triangle incidence"
   ]
  },
  {
   "cell_type": "markdown",
   "id": "eaa02796",
   "metadata": {},
   "source": [
    "#### Degree"
   ]
  },
  {
   "cell_type": "code",
   "execution_count": null,
   "id": "9ae3439f",
   "metadata": {},
   "outputs": [],
   "source": [
    "K_butterfly.degree(k=1, p=1) # node-edge degree"
   ]
  },
  {
   "cell_type": "code",
   "execution_count": null,
   "id": "f860ec4a",
   "metadata": {},
   "outputs": [],
   "source": [
    "K_butterfly.degree(k=2, p=2) # node-triangle degree"
   ]
  },
  {
   "cell_type": "code",
   "execution_count": null,
   "id": "68902737",
   "metadata": {},
   "outputs": [],
   "source": [
    "K_butterfly.degree(k=2, p=1) # edge-triangle degree"
   ]
  },
  {
   "cell_type": "markdown",
   "id": "f895e524",
   "metadata": {},
   "source": [
    "#### Removing simplex from a complex"
   ]
  },
  {
   "cell_type": "code",
   "execution_count": null,
   "id": "ef0760e6",
   "metadata": {},
   "outputs": [],
   "source": [
    "K_butterfly.remove([1, 2])\n",
    "K_butterfly.simplices"
   ]
  },
  {
   "cell_type": "markdown",
   "id": "cf9fc046",
   "metadata": {},
   "source": [
    "### Simplicial complex of a graph"
   ]
  },
  {
   "cell_type": "code",
   "execution_count": null,
   "id": "12402a27",
   "metadata": {},
   "outputs": [],
   "source": [
    "G = nx.karate_club_graph()"
   ]
  },
  {
   "cell_type": "code",
   "execution_count": null,
   "id": "bc977f01",
   "metadata": {},
   "outputs": [],
   "source": [
    "fig, ax = plt.subplots(figsize=(6,6))\n",
    "nx.draw_circular(G, with_labels=True, ax=ax)\n",
    "plt.show()"
   ]
  },
  {
   "cell_type": "code",
   "execution_count": null,
   "id": "aa45dc0a",
   "metadata": {},
   "outputs": [],
   "source": [
    "K = SimplicialComplex.from_graph(G, kind=\"clique\", n_skeleton=4)\n",
    "K_skeleton1 = SimplicialComplex.from_graph(G, kind=\"clique\", n_skeleton=2)"
   ]
  },
  {
   "cell_type": "code",
   "execution_count": null,
   "id": "58e7f6fc",
   "metadata": {},
   "outputs": [],
   "source": [
    "K.simplices"
   ]
  },
  {
   "cell_type": "code",
   "execution_count": null,
   "id": "e67b4c25",
   "metadata": {},
   "outputs": [],
   "source": [
    "K_skeleton1.simplices"
   ]
  },
  {
   "cell_type": "markdown",
   "id": "7dceafa4",
   "metadata": {},
   "source": [
    "#### Dimension"
   ]
  },
  {
   "cell_type": "code",
   "execution_count": null,
   "id": "52448954",
   "metadata": {},
   "outputs": [],
   "source": [
    "K.dim"
   ]
  },
  {
   "cell_type": "markdown",
   "id": "6f97657f",
   "metadata": {},
   "source": [
    "#### F-vector"
   ]
  },
  {
   "cell_type": "code",
   "execution_count": null,
   "id": "74321ec7",
   "metadata": {},
   "outputs": [],
   "source": [
    "K.f_vector"
   ]
  },
  {
   "cell_type": "code",
   "execution_count": null,
   "id": "6cebe3c6",
   "metadata": {},
   "outputs": [],
   "source": [
    "len(K)"
   ]
  },
  {
   "cell_type": "markdown",
   "id": "9f83f477",
   "metadata": {},
   "source": [
    "#### Euler characteristic"
   ]
  },
  {
   "cell_type": "code",
   "execution_count": null,
   "id": "f8a62cf4",
   "metadata": {},
   "outputs": [],
   "source": [
    "K.euler_characteristic"
   ]
  },
  {
   "cell_type": "markdown",
   "id": "62ce410d",
   "metadata": {},
   "source": [
    "#### Betti numbers"
   ]
  },
  {
   "cell_type": "code",
   "execution_count": null,
   "id": "2218b797",
   "metadata": {},
   "outputs": [],
   "source": [
    "K.betti()"
   ]
  },
  {
   "cell_type": "markdown",
   "id": "d0c8a816",
   "metadata": {},
   "source": [
    "#### Degree"
   ]
  },
  {
   "cell_type": "code",
   "execution_count": null,
   "id": "1fd0fb2f",
   "metadata": {},
   "outputs": [],
   "source": [
    "K.degree(k=1, p=1) # node-edge"
   ]
  },
  {
   "cell_type": "code",
   "execution_count": null,
   "id": "be755b3e",
   "metadata": {},
   "outputs": [],
   "source": [
    "K.degree(k=2, p=2) # node-triangle"
   ]
  },
  {
   "cell_type": "code",
   "execution_count": null,
   "id": "868871c1",
   "metadata": {},
   "outputs": [],
   "source": [
    "K.degree(k=2, p=1) # edge-triangle"
   ]
  },
  {
   "cell_type": "markdown",
   "id": "95c1ee05",
   "metadata": {},
   "source": [
    "#### Incidence"
   ]
  },
  {
   "cell_type": "code",
   "execution_count": null,
   "id": "ed3ab2c2",
   "metadata": {},
   "outputs": [],
   "source": [
    "K.incidence(k=1, p=1) # node-edge incidence"
   ]
  },
  {
   "cell_type": "code",
   "execution_count": null,
   "id": "0107cd63",
   "metadata": {},
   "outputs": [],
   "source": [
    "K.incidence(k=2, p=2) # node-triangle incidence"
   ]
  },
  {
   "cell_type": "code",
   "execution_count": null,
   "id": "9d4fe746",
   "metadata": {},
   "outputs": [],
   "source": [
    "K.incidence(k=2, p=1) # edge-triangle incidence"
   ]
  },
  {
   "cell_type": "markdown",
   "id": "46c2c172",
   "metadata": {},
   "source": [
    "#### Closeness centrality"
   ]
  },
  {
   "cell_type": "code",
   "execution_count": null,
   "id": "a36bf7d4",
   "metadata": {},
   "outputs": [],
   "source": [
    "K.simplex_closeness_centrality(p=0, q=1) # node-edge closeness"
   ]
  },
  {
   "cell_type": "code",
   "execution_count": null,
   "id": "4b1ca355",
   "metadata": {},
   "outputs": [],
   "source": [
    "K.simplex_closeness_centrality(p=0, q=2) # node-triangle closeness"
   ]
  },
  {
   "cell_type": "markdown",
   "id": "2f3db6af",
   "metadata": {},
   "source": [
    "#### Betweeneess centrality"
   ]
  },
  {
   "cell_type": "code",
   "execution_count": null,
   "id": "125bb72c",
   "metadata": {},
   "outputs": [],
   "source": [
    "K.simplex_betweenness_centrality(p=0, q=1) # node-edge betweenness"
   ]
  },
  {
   "cell_type": "code",
   "execution_count": null,
   "id": "82b75637",
   "metadata": {},
   "outputs": [],
   "source": [
    "K.simplex_betweenness_centrality(p=1, q=2) # edge-node betweenness"
   ]
  },
  {
   "cell_type": "markdown",
   "id": "9a1c5d48",
   "metadata": {},
   "source": [
    "### Simplicial complex of a relation\n",
    "\n",
    "Left Dowker complex for a relation $R$ on a sets $X,Y$ is called the simplicial complex $L$, with the vertex set given by $X$, having simplices $\\sigma = \\{x_0, x_1, \\dots, x_n \\} \\in R(x_i, x)$ for some $x$. Right Dowker complex for a relation $R$, , with the vertex set given by X, is the simplicial complex $K$, $σ = \\{y_0, y_1, . . . , y_n \\} \\in R(x, y_i)$."
   ]
  },
  {
   "cell_type": "code",
   "execution_count": null,
   "id": "f21c3d92",
   "metadata": {},
   "outputs": [],
   "source": [
    "R = np.array([\n",
    "    [0, 1, 1, 0, 0, 0, 0, 0, 0],\n",
    "    [1, 0, 0, 0, 0, 0, 0, 0, 0],\n",
    "    [0, 0, 0, 0, 0, 1, 1, 0, 0],\n",
    "    [0, 0, 0, 0, 1, 1, 0, 0, 0],\n",
    "    [0, 0, 0, 0, 0, 1, 0, 0, 0],\n",
    "    [1, 1, 1, 0, 0, 0, 0, 0, 0],\n",
    "    [0, 0, 1, 0, 1, 0, 1, 0, 0],\n",
    "    [0, 0, 1, 1, 1, 0, 0, 0, 0],\n",
    "    [0, 1, 1, 1, 1, 0, 0, 0, 0],\n",
    "    [0, 0, 0, 0, 0, 0, 0, 1, 0],\n",
    "    [0, 0, 0, 1, 0, 0, 0, 0, 0],\n",
    "    [0, 0, 0, 0, 0, 0, 0, 0, 1]\n",
    "])\n",
    "\n",
    "actors_rows = [\n",
    "    \"Bale, Christian\",\n",
    "    \"Carrey, Jim\",\n",
    "    \"Day-Levis, Daniel\",\n",
    "    \"Di Caprio, Leonardo\",\n",
    "    \"Diaz, Cameron\",\n",
    "    \"Freeman, Morgan\",\n",
    "    \"Gordon-Levitt, Joseph\",\n",
    "    \"Hardy, Tom\",\n",
    "    \"Murphy, Cillian\",\n",
    "    \"Pitt, Brad\",\n",
    "    \"Styles, Harry\",\n",
    "    \"Winslet, Kate\"\n",
    "]\n",
    "\n",
    "films_columns = [\n",
    "    \"Bruce Almighty\",\n",
    "    \"Dark Knight\",\n",
    "    \"Dark Knight Rises\",\n",
    "    \"Dunkirk\",\n",
    "    \"Inception\",\n",
    "    \"Gangs of New York\",\n",
    "    \"Lincoln\",\n",
    "    \"Once in Hollywood\",\n",
    "    \"Titanic\"\n",
    "]"
   ]
  },
  {
   "cell_type": "markdown",
   "id": "2043267d",
   "metadata": {},
   "source": [
    "### Exercise\n",
    "\n",
    "Create row and column Dowker complexes. Show that their Betti numbers are the same, depite the different number of simplices of different degrees.\n",
    "\n",
    "Compute its' characteristics presented before. What is the most between-central vertex by edges and by triangles?"
   ]
  },
  {
   "cell_type": "markdown",
   "id": "3a143d41",
   "metadata": {},
   "source": [
    "#### Row Dowker complex"
   ]
  },
  {
   "cell_type": "code",
   "execution_count": null,
   "id": "1d88709c",
   "metadata": {},
   "outputs": [],
   "source": [
    "# your code here"
   ]
  },
  {
   "cell_type": "markdown",
   "id": "946b4e75",
   "metadata": {},
   "source": [
    "#### Column Dowker complex"
   ]
  },
  {
   "cell_type": "code",
   "execution_count": null,
   "id": "d6999129",
   "metadata": {},
   "outputs": [],
   "source": [
    "# your code here"
   ]
  },
  {
   "cell_type": "markdown",
   "id": "968078b2",
   "metadata": {},
   "source": [
    "#### Centralities"
   ]
  },
  {
   "cell_type": "code",
   "execution_count": null,
   "id": "38b2ea0a",
   "metadata": {},
   "outputs": [],
   "source": [
    "# your code here"
   ]
  }
 ],
 "metadata": {
  "kernelspec": {
   "display_name": "Python 3 (ipykernel)",
   "language": "python",
   "name": "python3"
  },
  "language_info": {
   "codemirror_mode": {
    "name": "ipython",
    "version": 3
   },
   "file_extension": ".py",
   "mimetype": "text/x-python",
   "name": "python",
   "nbconvert_exporter": "python",
   "pygments_lexer": "ipython3",
   "version": "3.10.2"
  }
 },
 "nbformat": 4,
 "nbformat_minor": 5
}
