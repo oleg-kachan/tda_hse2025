{
 "cells": [
  {
   "cell_type": "code",
   "execution_count": null,
   "id": "be34374f",
   "metadata": {},
   "outputs": [],
   "source": [
    "!pip install ortools"
   ]
  },
  {
   "cell_type": "code",
   "execution_count": null,
   "id": "e458f4c8",
   "metadata": {},
   "outputs": [],
   "source": [
    "%matplotlib inline\n",
    "import matplotlib.pyplot as plt\n",
    "\n",
    "import numpy as np\n",
    "from itertools import product\n",
    "\n",
    "import sys\n",
    "sys.path.append(\"../lecture6/\")\n",
    "\n",
    "import simplicial\n",
    "import simplicial.drawing\n",
    "from simplicialx.simplicial import SimplicialComplex\n",
    "\n",
    "from ortools.linear_solver import pywraplp\n",
    "\n",
    "np.set_printoptions(precision=2, linewidth=100, suppress=True)"
   ]
  },
  {
   "cell_type": "code",
   "execution_count": null,
   "id": "adfdb08d",
   "metadata": {},
   "outputs": [],
   "source": [
    "def draw_simpicial_complex():\n",
    "    \n",
    "    plt.figure(figsize=(6.5,4.2))\n",
    "    plt.scatter(X[:,0], X[:,1], c=\"k\", s=25)\n",
    "    plt.xlim(-0.5, 2)\n",
    "    plt.ylim(-0.25, 1.25)\n",
    "    \n",
    "    plt.box(False)\n",
    "    plt.tick_params(top='off', bottom='off', left='off', right='off', labelleft='off', labelbottom='off')\n",
    "\n",
    "    # edges\n",
    "    for edge in cmplx.simplices[1]:\n",
    "        plt.plot(X[edge][:,0], X[edge][:,1], c=\"b\", alpha=0.5, linewidth=1)\n",
    "\n",
    "    # triangles\n",
    "    for triangle in cmplx.simplices[2]:\n",
    "        t = plt.Polygon(X[triangle], color=\"b\", alpha=0.1, linewidth=0)\n",
    "        plt.gca().add_patch(t)\n",
    "\n",
    "    for vertex in cmplx.simplices[0]:\n",
    "        plt.annotate(vertex[0], (X[vertex,0]-0.2, X[vertex,1]-0.1), fontsize=12)\n",
    "\n",
    "    plt.show()"
   ]
  },
  {
   "cell_type": "code",
   "execution_count": null,
   "id": "4fa3d58f",
   "metadata": {},
   "outputs": [],
   "source": [
    "X = np.array([\n",
    "    [0.0, 0.5],\n",
    "    [0.5, 1.0],\n",
    "    [1.5, 1.0],\n",
    "    [1.5, 0.0],\n",
    "    [0.5, 0.0],\n",
    "])"
   ]
  },
  {
   "cell_type": "code",
   "execution_count": null,
   "id": "2fe855e7",
   "metadata": {},
   "outputs": [],
   "source": [
    "cmplx = SimplicialComplex()\n",
    "\n",
    "cmplx.add([0, 1])\n",
    "cmplx.add([0, 4])\n",
    "cmplx.add([1, 2, 4])\n",
    "cmplx.add([2, 3, 4])\n",
    "\n",
    "cmplx.simplices"
   ]
  },
  {
   "cell_type": "markdown",
   "id": "633fbeea",
   "metadata": {},
   "source": [
    "<img style=\"float: left;\" src=\"images/K.png\">"
   ]
  },
  {
   "cell_type": "markdown",
   "id": "b7a9e104",
   "metadata": {},
   "source": [
    "### Spaces of simplices\n",
    "\n",
    "Given a simplicial complex $K = \\{\\emptyset, 0, 1, 2, 3, 4, 01, 04, 12, 14, 23, 24, 34, 124, 234 \\}$ its spaces of simplices are\n",
    "\n",
    "$$\n",
    "\\begin{align}\n",
    "\\Sigma_0 &= \\{0, 1, 2, 3\\}\\\\\n",
    "\\Sigma_1 &= \\{01, 04, 12, 14, 23, 24, 34 \\}\\\\\n",
    "\\Sigma_2 &= \\{124, 234 \\}\n",
    "\\end{align}\n",
    "$$"
   ]
  },
  {
   "cell_type": "markdown",
   "id": "7cc8d548",
   "metadata": {},
   "source": [
    "### Chain spaces\n",
    "\n",
    "Chain space $C_k$ is defined as a formal sum of $k$-simplicies with coefficients in a field $\\mathbb{k}$\n",
    "\n",
    "$$c_k = \\sum_i \\alpha \\sigma_i \\in C_k,~\\textrm{where}~\\sigma_i \\in \\Sigma_k, \\alpha \\in \\mathbb{k}$$\n",
    "\n",
    "#### Examples\n",
    "\n",
    "Vertex chains $C_0$\n",
    "\n",
    "$$\n",
    "c_0 = [0] \\sim [0 * 1 + 0 * 2 + 0 * 3 + 0 * 4]\\\\\n",
    "c_0' = [1 + 2 + 4] \\sim [1 * 1 + 1 * 2 + 0 * 3 + 1 * 4]\n",
    "$$\n",
    "\n",
    "Edge chains $C_1$\n",
    "\n",
    "$$\n",
    "c_1 = [12 + 23 + 34]\\\\\n",
    "c_1' = [01 + 23 + 24 + 34]\n",
    "$$\n",
    "\n",
    "Triangle chains $C_2$\n",
    "\n",
    "$$\n",
    "c_2 = [124]\\\\\n",
    "c_2' = [234 + 234]\\\\\n",
    "$$"
   ]
  },
  {
   "cell_type": "markdown",
   "id": "4efc058c",
   "metadata": {},
   "source": [
    "#### Summation\n",
    "\n",
    "One can take sums of chains, over $\\mathbb{Z}_2$ the summation is defined modulo 2\n",
    "\n",
    "$$\n",
    "\\begin{align}\n",
    "c_1 + c_1' &= [12 + 23 + 34] + [12 + 14 + 24 + 34]\\\\\n",
    "&= [14 + 23 + 24]\n",
    "\\end{align}\n",
    "$$"
   ]
  },
  {
   "cell_type": "code",
   "execution_count": null,
   "id": "e5488a3a",
   "metadata": {},
   "outputs": [],
   "source": [
    "# 01, 04, 12, 14, 23, 24, 34\n",
    "c1 = np.array([0, 0, 1, 0, 1, 0, 1])\n",
    "c1_prime = np.array([0, 0, 1, 1, 0, 1, 1])\n",
    "(c1 + c1_prime) % 2"
   ]
  },
  {
   "cell_type": "markdown",
   "id": "48503616",
   "metadata": {},
   "source": [
    "<img style=\"float: left;\" src=\"images/K.png\">"
   ]
  },
  {
   "cell_type": "markdown",
   "id": "9d4af072",
   "metadata": {},
   "source": [
    "### Boundary operator\n",
    "\n",
    "Given a $k$-simplex $\\sigma = [v_0, v_1, \\dots, v_k] \\in \\Sigma_k$ its boundary $\\partial_k \\sigma \\in C_{k-1}$ is defined\n",
    "\n",
    "$$\\partial_k \\sigma = \\sum_{i=0}^k~[v_0, v_1, \\dots, v_{i-1}, v_{i+1}, \\dots, v_k]$$\n",
    "\n",
    "#### Examples\n",
    "\n",
    "Edge\n",
    "\n",
    "$$c_1 = 12\\\\\n",
    "\\partial c_1 = 2 + 1$$\n",
    "\n",
    "Triangle\n",
    "\n",
    "$$c_2 = 234\\\\\n",
    "\\partial c_2 = 34 + 24 + 23$$"
   ]
  },
  {
   "cell_type": "markdown",
   "id": "c662b317",
   "metadata": {},
   "source": [
    "#### Matrix representation\n",
    "\n",
    "Boundary operator $\\partial_k$ for a fixed basis can be represented by a matrix $\\mathbf{B}_k$ having $k$-simplices $\\sigma$ on columns and $k-1$-simplices $\\tau$ on rows and $b_{ij} = 1$ if $\\tau$ is in a boundary of $\\sigma$."
   ]
  },
  {
   "cell_type": "code",
   "execution_count": null,
   "id": "2d5f4312",
   "metadata": {},
   "outputs": [],
   "source": [
    "# 01, 04, 12, 14, 23, 24, 34 - columns\n",
    "# 0, 1, 2, 3, 4 - rows\n",
    "B1 = np.abs(cmplx.boundary_operator_matrix(k=1)).astype(int)\n",
    "B1"
   ]
  },
  {
   "cell_type": "code",
   "execution_count": null,
   "id": "d481e535",
   "metadata": {},
   "outputs": [],
   "source": [
    "cmplx.boundary_operator_matrix(k=2)"
   ]
  },
  {
   "cell_type": "code",
   "execution_count": null,
   "id": "ef5ef480",
   "metadata": {},
   "outputs": [],
   "source": [
    "# 124, 234 - columns\n",
    "# 01, 04, 12, 14, 23, 24, 34 - rows\n",
    "B2 = np.abs(cmplx.boundary_operator_matrix(k=2)).astype(int)\n",
    "B2"
   ]
  },
  {
   "cell_type": "markdown",
   "id": "302f043e",
   "metadata": {},
   "source": [
    "### Boundaries of chains\n",
    "\n",
    "#### Boundary of a chain\n",
    "\n",
    "Boundary operator is linear\n",
    "\n",
    "$$\n",
    "\\begin{align}\n",
    "c &= 01 + 12 + 23\\\\\\\\\n",
    "\\partial c &= \\partial(01 + 12 + 23)\\\\\n",
    "\\partial c &= \\partial(01) + \\partial(12) + \\partial(23)\\\\\n",
    "\\partial c &= (1 + 0) + (2 + 1) + (3 + 2)\\\\\n",
    "\\partial c &= 0 + 3\n",
    "\\end{align}\n",
    "$$"
   ]
  },
  {
   "cell_type": "code",
   "execution_count": null,
   "id": "2d6a57bd",
   "metadata": {},
   "outputs": [],
   "source": [
    "c = np.array([1, 0, 1, 0, 1, 0, 0]) # 1*01 + 0*04 + 1*12 + 0*14 + 1*23 + 0*24 + 0*34\n",
    "B1 @ c % 2"
   ]
  },
  {
   "cell_type": "markdown",
   "id": "0aff694a",
   "metadata": {},
   "source": [
    "<img style=\"float: left;\" src=\"images/K.png\">"
   ]
  },
  {
   "cell_type": "markdown",
   "id": "1f7ae972",
   "metadata": {},
   "source": [
    "#### Boundary of a cycle\n",
    "\n",
    "$$\n",
    "\\begin{align}\n",
    "z &= 01 + 12 + 24 + 04\\\\\\\\\n",
    "\\partial z &= \\partial(01) + \\partial(12) + \\partial(24) + \\partial(04)\\\\\n",
    "\\partial z &= (1 + 0) + (2 + 1) + (4 + 2) + (4 + 0)\\\\\n",
    "\\partial z &= 0\n",
    "\\end{align}\n",
    "$$"
   ]
  },
  {
   "cell_type": "code",
   "execution_count": null,
   "id": "c121bdfa",
   "metadata": {},
   "outputs": [],
   "source": [
    "z = np.array([1, 1, 1, 0, 0, 1, 0]) # 01, 04, 12, 14, 23, 24, 34\n",
    "B1 @ z % 2"
   ]
  },
  {
   "cell_type": "markdown",
   "id": "5a58473c",
   "metadata": {},
   "source": [
    "<img style=\"float: left;\" src=\"images/K.png\">"
   ]
  },
  {
   "cell_type": "markdown",
   "id": "097964b1",
   "metadata": {},
   "source": [
    "#### Exercise\n",
    "\n",
    "Find the boundary of the other cycle in the complex $K$."
   ]
  },
  {
   "cell_type": "code",
   "execution_count": null,
   "id": "ba41d8c1",
   "metadata": {},
   "outputs": [],
   "source": [
    "z_prime = np.array([0, 0, 0, 0, 0, 0, 0]) # 01, 04, 12, 14, 23, 24, 34\n",
    "boundary = B1 @ z_prime % 2 # check if z_prime boundary is zero\n",
    "boundary"
   ]
  },
  {
   "cell_type": "markdown",
   "id": "03c50324",
   "metadata": {},
   "source": [
    "### Chain complex\n",
    "\n",
    "Chain complex is a sequence of chain spaces connected with boundary maps\n",
    "\n",
    "$$C_2 \\xrightarrow{\\partial_2} C_1  \\xrightarrow{\\partial_1} C_0$$\n",
    "\n",
    "For a given chain space $C_k$ the space of cycles $Z_k$ consists of all elements of $C_k$ which boundary $\\partial_k$ is zero.\n",
    "\n",
    "$$\n",
    "\\begin{align}\n",
    "Z_k &= \\mathrm{ker}~\\partial_k\\\\\n",
    "Z_k &= \\{ c \\in C_k \\mid \\partial_k = 0 \\}\\\\\\\\\n",
    "B_k &= \\mathrm{im}~\\partial_{k+1}\\\\\n",
    "B_k &= \\{ c \\in C_k \\mid \\partial_{k+1}d = c,~\\mathrm{for~some}~d \\in C_{k+1} \\}\n",
    "\\end{align}\n",
    "$$\n",
    "\n",
    "Hierarchy of spaces\n",
    "\n",
    "$$B_k \\subseteq Z_k \\subseteq C_k$$"
   ]
  },
  {
   "cell_type": "markdown",
   "id": "5d8d732a",
   "metadata": {},
   "source": [
    "<img style=\"float: left;\" src=\"images/K.png\">"
   ]
  },
  {
   "cell_type": "markdown",
   "id": "13757c0e",
   "metadata": {},
   "source": [
    "#### 1-cycles and 1-boundaries of $K$"
   ]
  },
  {
   "cell_type": "markdown",
   "id": "d55fe33d",
   "metadata": {},
   "source": [
    "$$Z_1 = \\{ [01 + 04 + 14], [12 + 14 + 24], [23 + 24 + 34], [12 + 14 + 24 + 34], [01 + 04 + 12 + 24], [01 + 04 + 12 + 23 + 34] \\}$$\n",
    "$$B_1 = \\{[12 + 14 + 24], [23 + 24 + 34], [12 + 14 + 24 + 34]\\}$$"
   ]
  },
  {
   "cell_type": "markdown",
   "id": "6c31d65d",
   "metadata": {},
   "source": [
    "### Homologous cycles\n",
    "\n",
    "Two cycles $z, z' \\in C_k$ are said homologous $z \\sim z'$ if their difference $z - z' \\in B_k$."
   ]
  },
  {
   "cell_type": "code",
   "execution_count": null,
   "id": "f3b3902c",
   "metadata": {},
   "outputs": [],
   "source": [
    "# 01, 04, 12, 14, 23, 24, 34\n",
    "z = np.array([1, 1, 1, 0, 0, 1, 0]) # 01 + 04 + 12 + 24\n",
    "z_prime1 = np.array([1, 1, 0, 1, 0, 0, 0]) # 01 + 04 + 14\n",
    "z_prime2 = np.array([1, 1, 1, 0, 1, 0, 1]) # 01 + 04 + 12 + 23 + 34"
   ]
  },
  {
   "cell_type": "code",
   "execution_count": null,
   "id": "7c254460",
   "metadata": {},
   "outputs": [],
   "source": [
    "(z - z_prime1) % 2 # 12 + 14 + 24"
   ]
  },
  {
   "cell_type": "code",
   "execution_count": null,
   "id": "9b39dc22",
   "metadata": {},
   "outputs": [],
   "source": [
    "(z - z_prime2) % 2 # 23 + 24 + 34"
   ]
  },
  {
   "cell_type": "markdown",
   "id": "f60f47a6",
   "metadata": {},
   "source": [
    "### Optimal representatives"
   ]
  },
  {
   "cell_type": "code",
   "execution_count": null,
   "id": "16078caa",
   "metadata": {},
   "outputs": [],
   "source": [
    "X = np.array([\n",
    "    [0.0, 0.5],\n",
    "    [0.5, 1.0],\n",
    "    [1.5, 1.0],\n",
    "    [2.5, 1.0],\n",
    "    [2.5, 0.0],\n",
    "    [1.5, 0.0],\n",
    "    [0.5, 0.0],\n",
    "])"
   ]
  },
  {
   "cell_type": "code",
   "execution_count": null,
   "id": "2e96a8e0",
   "metadata": {},
   "outputs": [],
   "source": [
    "cmplx = SimplicialComplex()\n",
    "\n",
    "cmplx.add([0, 1])\n",
    "cmplx.add([0, 6])\n",
    "cmplx.add([2, 3])\n",
    "cmplx.add([3, 4])\n",
    "cmplx.add([4, 5])\n",
    "cmplx.add([1, 2, 6])\n",
    "cmplx.add([2, 5, 6])\n",
    "\n",
    "cmplx.simplices"
   ]
  },
  {
   "cell_type": "code",
   "execution_count": null,
   "id": "ebbe3337",
   "metadata": {},
   "outputs": [],
   "source": [
    "B1 = cmplx.boundary_operator_matrix(k=1).astype(int) # edge-vertices\n",
    "B2 = cmplx.boundary_operator_matrix(k=2) # triangle-edges"
   ]
  },
  {
   "cell_type": "markdown",
   "id": "10c58777",
   "metadata": {},
   "source": [
    "#### Homology representative"
   ]
  },
  {
   "cell_type": "code",
   "execution_count": null,
   "id": "9d07508f",
   "metadata": {},
   "outputs": [],
   "source": [
    "x_init = np.array([1, -1, 1, 0, 0, 0, 1, 0, 0, 0]) # 01, 60, 12, 26"
   ]
  },
  {
   "cell_type": "code",
   "execution_count": null,
   "id": "a39d6088",
   "metadata": {},
   "outputs": [],
   "source": [
    "plt.figure(figsize=(9,6))\n",
    "plt.title(\"Initial cycle\")\n",
    "plt.scatter(X[:,0], X[:,1], c=\"k\", s=25)\n",
    "plt.xlim(-0.5, 3)\n",
    "plt.ylim(-0.5, 1.5)\n",
    "\n",
    "# edges\n",
    "for edge in cmplx.simplices[1]:\n",
    "    plt.plot(X[edge][:,0], X[edge][:,1], c=\"b\", alpha=0.5, linewidth=1)\n",
    "\n",
    "# triangles\n",
    "for triangle in cmplx.simplices[2]:\n",
    "    t = plt.Polygon(X[triangle], color=\"b\", alpha=0.1, linewidth=0)\n",
    "    plt.gca().add_patch(t)\n",
    "\n",
    "# init cycle\n",
    "for i, edge in enumerate(cmplx.simplices[1]):\n",
    "    plt.plot(X[edge][:,0], X[edge][:,1], c=\"b\", alpha=abs(x_init[i]), linewidth=2.5*abs(x_init[i]), label=\"({}, {}): {:.2f}\".format(edge[0], edge[1], x_init[i]))\n",
    "\n",
    "for vertex in cmplx.simplices[0]:\n",
    "    plt.annotate(vertex[0], (X[vertex,0]-0.2, X[vertex,1]-0.1), fontsize=12)\n",
    "\n",
    "plt.legend(loc=\"upper right\", bbox_to_anchor=(1.25, 1.015))\n",
    "plt.show()\n"
   ]
  },
  {
   "cell_type": "markdown",
   "id": "e1410e14",
   "metadata": {},
   "source": [
    "### Naive algorithm\n",
    "\n",
    "Check for all cycles in $Z_k$ where their difference is an element (or combination) of $B_k$. Choose one minimizing desired objective function."
   ]
  },
  {
   "cell_type": "markdown",
   "id": "d8f7d6e8",
   "metadata": {},
   "source": [
    "#### Find the shortest cycle homologous to $x_{\\mathrm{init}}$"
   ]
  },
  {
   "cell_type": "code",
   "execution_count": null,
   "id": "0b6bcd1a",
   "metadata": {},
   "outputs": [],
   "source": [
    "x_init = np.array([1, -1, 1, 0, 0, 0, 1, 0, 0, 0]) # 01, 60, 12, 26"
   ]
  },
  {
   "cell_type": "code",
   "execution_count": null,
   "id": "49048671",
   "metadata": {},
   "outputs": [],
   "source": [
    "cycles_loss = []\n",
    "\n",
    "for w in product([-1, 0, 1], repeat=B2.shape[-1]):\n",
    "    coeffs = np.asarray(w)\n",
    "    boundaries = (B2 @ np.asarray(w)).astype(int)\n",
    "    x_homologous = (x_init + B2 @ np.asarray(w)).astype(int)\n",
    "    loss = np.linalg.norm(x_homologous, ord=1)\n",
    "    cycles_loss.append((x_homologous, loss))\n",
    "    print(coeffs, boundaries, x_homologous, loss)"
   ]
  },
  {
   "cell_type": "markdown",
   "id": "48df4eee",
   "metadata": {},
   "source": [
    "#### Optimal cycle"
   ]
  },
  {
   "cell_type": "code",
   "execution_count": null,
   "id": "d561b50b",
   "metadata": {},
   "outputs": [],
   "source": [
    "x_opt = sorted(cycles_loss, key=lambda x: x[1])[0][0]\n",
    "x_opt, np.linalg.norm(x_opt, ord=1)"
   ]
  },
  {
   "cell_type": "markdown",
   "id": "25b81197",
   "metadata": {},
   "source": [
    "#### Check whether optimal cycle is a cycle"
   ]
  },
  {
   "cell_type": "code",
   "execution_count": null,
   "id": "7b81c9f2",
   "metadata": {},
   "outputs": [],
   "source": [
    "B1 @ x_opt"
   ]
  },
  {
   "cell_type": "code",
   "execution_count": null,
   "id": "6ff2767d",
   "metadata": {},
   "outputs": [],
   "source": [
    "plt.figure(figsize=(9,6))\n",
    "plt.title(\"Initial and optimal cycles\")\n",
    "plt.scatter(X[:,0], X[:,1], c=\"k\", s=25)\n",
    "plt.xlim(-0.5, 3)\n",
    "plt.ylim(-0.5, 1.5)\n",
    "\n",
    "# edges\n",
    "for edge in cmplx.simplices[1]:\n",
    "    plt.plot(X[edge][:,0], X[edge][:,1], c=\"b\", alpha=0.5, linewidth=1)\n",
    "\n",
    "# triangles\n",
    "for triangle in cmplx.simplices[2]:\n",
    "    t = plt.Polygon(X[triangle], color=\"b\", alpha=0.1, linewidth=0)\n",
    "    plt.gca().add_patch(t)\n",
    "\n",
    "# init cycle\n",
    "for i, edge in enumerate(cmplx.simplices[1]):\n",
    "    plt.plot(X[edge][:,0], X[edge][:,1], c=\"b\", alpha=abs(x_init[i]), linewidth=5*abs(x_init[i]), label=\"({}, {}): {:.2f}\".format(edge[0], edge[1], x_init[i]))\n",
    "    \n",
    "# optimal cycle\n",
    "for i, edge in enumerate(cmplx.simplices[1]):\n",
    "    plt.plot(X[edge][:,0], X[edge][:,1], c=\"r\", alpha=abs(x_opt[i]), linewidth=2.5*abs(x_opt[i]), label=\"({}, {}): {:.2f}\".format(edge[0], edge[1], x_opt[i]))\n",
    "\n",
    "for vertex in cmplx.simplices[0]:\n",
    "    plt.annotate(vertex[0], (X[vertex,0]-0.2, X[vertex,1]-0.1), fontsize=12)\n",
    "\n",
    "plt.legend(loc=\"upper right\", bbox_to_anchor=(1.25, 1.015))\n",
    "plt.show()\n"
   ]
  },
  {
   "cell_type": "markdown",
   "id": "ba797fa6",
   "metadata": {},
   "source": [
    "### Linear programming"
   ]
  },
  {
   "cell_type": "code",
   "execution_count": null,
   "id": "c46b807f",
   "metadata": {},
   "outputs": [],
   "source": [
    "n_edges = B1.shape[-1]\n",
    "n_triangles = B2.shape[-1]\n",
    "\n",
    "# init solver\n",
    "solver = pywraplp.Solver.CreateSolver(\"CLP_LINEAR_PROGRAMMING\")\n",
    "inf = solver.infinity()\n",
    "\n",
    "# init optimization variables w/ bounds\n",
    "w = {}\n",
    "for i in range(n_triangles):\n",
    "    w[i] = solver.IntVar(-inf, inf, \"w[{}]\".format(i))\n",
    "\n",
    "x, x_pos, x_neg = {}, {}, {}\n",
    "for i in range(n_edges):\n",
    "    x[i] = solver.IntVar(-inf, inf, \"x[{}]\".format(i))\n",
    "    x_pos[i] = solver.IntVar(0, inf, \"x_+[{}]\".format(i))\n",
    "    x_neg[i] = solver.IntVar(0, inf, \"x_-[{}]\".format(i))\n",
    "    \n",
    "# add constraints\n",
    "for i in range(n_edges):\n",
    "    solver.Add(x[i] == (x_init[i] + sum([w[j] * B2[i,j] for j in range(n_triangles)])))\n",
    "    \n",
    "for i in range(len(x_init)):\n",
    "    solver.Add(x[i] == (x_pos[i] - x_neg[i]))\n",
    "    \n",
    "# add objective function\n",
    "f = sum([x_pos[i] + x_neg[i] for i in range(len(x_init))])\n",
    "solver.Minimize(f)\n",
    "\n",
    "# solve\n",
    "solver.Solve()"
   ]
  },
  {
   "cell_type": "markdown",
   "id": "40a2424c",
   "metadata": {},
   "source": [
    "#### Optimal cycle"
   ]
  },
  {
   "cell_type": "code",
   "execution_count": null,
   "id": "a904f350",
   "metadata": {},
   "outputs": [],
   "source": [
    "x_opt = np.array([x_i.solution_value() for i, x_i in x.items()]).astype(int)\n",
    "x_opt, np.linalg.norm(x_opt, ord=1)"
   ]
  },
  {
   "cell_type": "code",
   "execution_count": null,
   "id": "a909e5ba",
   "metadata": {},
   "outputs": [],
   "source": [
    "plt.figure(figsize=(9,6))\n",
    "plt.title(\"Initial and optimal cycles\")\n",
    "plt.scatter(X[:,0], X[:,1], c=\"k\", s=25)\n",
    "plt.xlim(-0.5, 3)\n",
    "plt.ylim(-0.5, 1.5)\n",
    "\n",
    "# edges\n",
    "for edge in cmplx.simplices[1]:\n",
    "    plt.plot(X[edge][:,0], X[edge][:,1], c=\"b\", alpha=0.5, linewidth=1)\n",
    "\n",
    "# triangles\n",
    "for triangle in cmplx.simplices[2]:\n",
    "    t = plt.Polygon(X[triangle], color=\"b\", alpha=0.1, linewidth=0)\n",
    "    plt.gca().add_patch(t)\n",
    "\n",
    "# init cycle\n",
    "for i, edge in enumerate(cmplx.simplices[1]):\n",
    "    plt.plot(X[edge][:,0], X[edge][:,1], c=\"b\", alpha=abs(x_init[i]), linewidth=5*abs(x_init[i]), label=\"({}, {}): {:.2f}\".format(edge[0], edge[1], x_init[i]))\n",
    "    \n",
    "# optimal cycle\n",
    "for i, edge in enumerate(cmplx.simplices[1]):\n",
    "    plt.plot(X[edge][:,0], X[edge][:,1], c=\"r\", alpha=abs(x_opt[i]), linewidth=2.5*abs(x_opt[i]), label=\"({}, {}): {:.2f}\".format(edge[0], edge[1], x_opt[i]))\n",
    "\n",
    "for vertex in cmplx.simplices[0]:\n",
    "    plt.annotate(vertex[0], (X[vertex,0]-0.2, X[vertex,1]-0.1), fontsize=12)\n",
    "\n",
    "plt.legend(loc=\"upper right\", bbox_to_anchor=(1.25, 1.015))\n",
    "plt.show()\n"
   ]
  },
  {
   "cell_type": "markdown",
   "id": "d32650cc",
   "metadata": {},
   "source": [
    "## Harmonic representatives\n",
    "\n",
    "#### Higher-order Laplacian\n",
    "\n",
    "Given a simplicial complex $K$ with boundary matrices $\\{\\mathbf{B}_k\\}_{k=1}^{\\dim K}$, the $k$-th higher-order Laplacian is defined\n",
    "\n",
    "\\begin{equation}\n",
    "\\mathbf{L}_k = \\mathbf{B}_k^T \\mathbf{B}_k + \\mathbf{B}_{k+1} \\mathbf{B}_{k+1}^T,\n",
    "\\end{equation}\n",
    "\n",
    "then the $k$-the Betti number of $K$ is the multiplicity of zero eigenvalues of $\\mathbf{L}_k$ and solutions of $\\mathbf{L}_k \\mathbf{v} = \\mathbf{0}$ are harmonic representatives of $k$-th homology classes."
   ]
  },
  {
   "cell_type": "markdown",
   "id": "bf58ac52",
   "metadata": {},
   "source": [
    "### 0-dim homology representatives"
   ]
  },
  {
   "cell_type": "code",
   "execution_count": null,
   "id": "df98dfda",
   "metadata": {},
   "outputs": [],
   "source": [
    "cmplx = SimplicialComplex()\n",
    "\n",
    "cmplx.add([0, 1])\n",
    "cmplx.add([2, 3])\n",
    "cmplx.add([3, 4])\n",
    "cmplx.add([4, 5])\n",
    "cmplx.add([2, 5, 6])\n",
    "\n",
    "cmplx.simplices"
   ]
  },
  {
   "cell_type": "code",
   "execution_count": null,
   "id": "d018a6c3",
   "metadata": {},
   "outputs": [],
   "source": [
    "plt.figure(figsize=(9,6))\n",
    "plt.scatter(X[:,0], X[:,1], c=\"k\", s=25)\n",
    "plt.xlim(-0.5, 3)\n",
    "plt.ylim(-0.5, 1.5)\n",
    "\n",
    "# edges\n",
    "for edge in cmplx.simplices[1]:\n",
    "    plt.plot(X[edge][:,0], X[edge][:,1], c=\"b\", alpha=0.5, linewidth=1)\n",
    "\n",
    "# triangles\n",
    "for triangle in cmplx.simplices[2]:\n",
    "    t = plt.Polygon(X[triangle], color=\"b\", alpha=0.1, linewidth=0)\n",
    "    plt.gca().add_patch(t)\n",
    "    \n",
    "for vertex in cmplx.simplices[0]:\n",
    "    plt.annotate(vertex[0], (X[vertex,0]-0.2, X[vertex,1]-0.1), fontsize=12)\n",
    "\n",
    "plt.show()"
   ]
  },
  {
   "cell_type": "markdown",
   "id": "182b51d0",
   "metadata": {},
   "source": [
    "#### Laplacian $L_0$"
   ]
  },
  {
   "cell_type": "code",
   "execution_count": null,
   "id": "45f93a87",
   "metadata": {},
   "outputs": [],
   "source": [
    "B1 = cmplx.boundary_operator_matrix(k=1)\n",
    "\n",
    "L0 = B1 @ B1.T"
   ]
  },
  {
   "cell_type": "code",
   "execution_count": null,
   "id": "0cbfaeba",
   "metadata": {},
   "outputs": [],
   "source": [
    "eigenvalues, eigenvectors = np.linalg.eigh(L0)\n",
    "eigenvalues, eigenvectors"
   ]
  },
  {
   "cell_type": "code",
   "execution_count": null,
   "id": "a76c50d4",
   "metadata": {},
   "outputs": [],
   "source": [
    "# for each zero eigenvalue\n",
    "for k in range(len(eigenvalues)):\n",
    "    \n",
    "    if np.isclose(eigenvalues[k], 0):\n",
    "\n",
    "        plt.figure(figsize=(9,6))\n",
    "        plt.title(\"{}-th eigenvalue\".format(k))\n",
    "        plt.scatter(X[:,0], X[:,1], c=\"k\", s=25)\n",
    "        plt.xlim(-0.5, 3)\n",
    "        plt.ylim(-0.5, 1.5)\n",
    "\n",
    "        # edges\n",
    "        for edge in cmplx.simplices[1]:\n",
    "            plt.plot(X[edge][:,0], X[edge][:,1], c=\"b\", alpha=0.5, linewidth=1)\n",
    "\n",
    "        # triangles\n",
    "        for triangle in cmplx.simplices[2]:\n",
    "            t = plt.Polygon(X[triangle], color=\"b\", alpha=0.1, linewidth=0)\n",
    "            plt.gca().add_patch(t)\n",
    "\n",
    "        \n",
    "        # harmonic representatives\n",
    "        eigenvector_normalized = np.abs(eigenvectors[:,k]) / np.abs(eigenvectors[:,k]).max()\n",
    "        for i, vertex in enumerate(cmplx.simplices[0]):\n",
    "            plt.scatter(X[i,0], X[i,1], c=\"r\", s=100*abs(eigenvector_normalized[i]), label=\"({}, {}): {:.2f}\".format(edge[0], edge[1], eigenvectors[i,k]))\n",
    "\n",
    "        for vertex in cmplx.simplices[0]:\n",
    "            plt.annotate(vertex[0], (X[vertex,0]-0.2, X[vertex,1]-0.1), fontsize=12)\n",
    "\n",
    "        plt.legend(loc=\"upper right\", bbox_to_anchor=(1.35, 1.0))\n",
    "        plt.show()\n"
   ]
  },
  {
   "cell_type": "markdown",
   "id": "8b25c2a9",
   "metadata": {},
   "source": [
    "### 1-dim homology representatives"
   ]
  },
  {
   "cell_type": "code",
   "execution_count": null,
   "id": "9ad4f118",
   "metadata": {},
   "outputs": [],
   "source": [
    "cmplx = SimplicialComplex()\n",
    "\n",
    "cmplx.add([0, 1])\n",
    "cmplx.add([0, 6])\n",
    "cmplx.add([2, 3])\n",
    "cmplx.add([3, 4])\n",
    "cmplx.add([4, 5])\n",
    "cmplx.add([1, 2, 6])\n",
    "cmplx.add([2, 5, 6])\n",
    "\n",
    "cmplx.simplices"
   ]
  },
  {
   "cell_type": "code",
   "execution_count": null,
   "id": "10c49484",
   "metadata": {},
   "outputs": [],
   "source": [
    "plt.figure(figsize=(9,6))\n",
    "plt.scatter(X[:,0], X[:,1], c=\"k\", s=25)\n",
    "plt.xlim(-0.5, 3)\n",
    "plt.ylim(-0.5, 1.5)\n",
    "\n",
    "# edges\n",
    "for edge in cmplx.simplices[1]:\n",
    "    plt.plot(X[edge][:,0], X[edge][:,1], c=\"b\", alpha=0.5, linewidth=1)\n",
    "\n",
    "# triangles\n",
    "for triangle in cmplx.simplices[2]:\n",
    "    t = plt.Polygon(X[triangle], color=\"b\", alpha=0.1, linewidth=0)\n",
    "    plt.gca().add_patch(t)\n",
    "    \n",
    "for vertex in cmplx.simplices[0]:\n",
    "    plt.annotate(vertex[0], (X[vertex,0]-0.2, X[vertex,1]-0.1), fontsize=12)\n",
    "\n",
    "plt.show()"
   ]
  },
  {
   "cell_type": "markdown",
   "id": "3179b4f8",
   "metadata": {},
   "source": [
    "#### Laplacian $L_1$"
   ]
  },
  {
   "cell_type": "code",
   "execution_count": null,
   "id": "b9786c9d",
   "metadata": {},
   "outputs": [],
   "source": [
    "B1 = cmplx.boundary_operator_matrix(k=1)\n",
    "B2 = cmplx.boundary_operator_matrix(k=2)\n",
    "\n",
    "L1 = B1.T @ B1 + B2 @ B2.T"
   ]
  },
  {
   "cell_type": "code",
   "execution_count": null,
   "id": "150c7004",
   "metadata": {},
   "outputs": [],
   "source": [
    "eigenvalues, eigenvectors = np.linalg.eigh(L1)\n",
    "eigenvalues, eigenvectors"
   ]
  },
  {
   "cell_type": "code",
   "execution_count": null,
   "id": "0753d9a7",
   "metadata": {},
   "outputs": [],
   "source": [
    "# for each zero eigenvalue\n",
    "for k in range(len(eigenvalues)):\n",
    "    \n",
    "    if np.isclose(eigenvalues[k], 0):\n",
    "\n",
    "        plt.figure(figsize=(9,6))\n",
    "        plt.title(\"{}-th eigenvalue\".format(k))\n",
    "        plt.scatter(X[:,0], X[:,1], c=\"k\", s=25)\n",
    "        plt.xlim(-0.5, 3)\n",
    "        plt.ylim(-0.5, 1.5)\n",
    "\n",
    "        # edges\n",
    "        for edge in cmplx.simplices[1]:\n",
    "            plt.plot(X[edge][:,0], X[edge][:,1], c=\"b\", alpha=0.1, linewidth=1)\n",
    "\n",
    "        # triangles\n",
    "        for triangle in cmplx.simplices[2]:\n",
    "            t = plt.Polygon(X[triangle], color=\"b\", alpha=0.1, linewidth=0)\n",
    "            plt.gca().add_patch(t)\n",
    "\n",
    "        # harmonic representatives\n",
    "        eigenvector_normalized = np.abs(eigenvectors[:,k]) / np.abs(eigenvectors[:,k]).max()\n",
    "        for i, edge in enumerate(cmplx.simplices[1]):\n",
    "            plt.plot(X[edge][:,0], X[edge][:,1], c=\"b\", alpha=eigenvector_normalized[i], linewidth=8*eigenvector_normalized[i], label=\"({}, {}): {:.2f}\".format(edge[0], edge[1], eigenvectors[i,k]))\n",
    "\n",
    "        for vertex in cmplx.simplices[0]:\n",
    "            plt.annotate(vertex[0], (X[vertex,0]-0.2, X[vertex,1]-0.1), fontsize=12)\n",
    "\n",
    "        plt.legend(loc=\"upper right\", bbox_to_anchor=(1.29, 1.015))\n",
    "        plt.show()\n"
   ]
  },
  {
   "cell_type": "code",
   "execution_count": null,
   "id": "7ad917eb",
   "metadata": {},
   "outputs": [],
   "source": []
  }
 ],
 "metadata": {
  "kernelspec": {
   "display_name": "Python 3 (ipykernel)",
   "language": "python",
   "name": "python3"
  },
  "language_info": {
   "codemirror_mode": {
    "name": "ipython",
    "version": 3
   },
   "file_extension": ".py",
   "mimetype": "text/x-python",
   "name": "python",
   "nbconvert_exporter": "python",
   "pygments_lexer": "ipython3",
   "version": "3.10.2"
  }
 },
 "nbformat": 4,
 "nbformat_minor": 5
}
